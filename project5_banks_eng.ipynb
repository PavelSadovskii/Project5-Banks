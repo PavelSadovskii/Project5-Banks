{
 "cells": [
  {
   "cell_type": "markdown",
   "id": "ce108ab3",
   "metadata": {
    "toc": true
   },
   "source": [
    "<h1>Table of Contents<span class=\"tocSkip\"></span></h1>\n",
    "<div class=\"toc\"><ul class=\"toc-item\"><li><span><a href=\"#Data-preparation\" data-toc-modified-id=\"Data-preparation-1\"><span class=\"toc-item-num\">1&nbsp;&nbsp;</span>Data preparation</a></span><ul class=\"toc-item\"><li><span><a href=\"#We-import-the-modules-and-libraries-necessary-for-work\" data-toc-modified-id=\"We-import-the-modules-and-libraries-necessary-for-work-1.1\"><span class=\"toc-item-num\">1.1&nbsp;&nbsp;</span>We import the modules and libraries necessary for work</a></span></li><li><span><a href=\"#Let's-open-the-table\" data-toc-modified-id=\"Let's-open-the-table-1.2\"><span class=\"toc-item-num\">1.2&nbsp;&nbsp;</span>Let's open the table</a></span></li><li><span><a href=\"#Let's-study-the-data\" data-toc-modified-id=\"Let's-study-the-data-1.3\"><span class=\"toc-item-num\">1.3&nbsp;&nbsp;</span>Let's study the data</a></span></li><li><span><a href=\"#Rename-columns\" data-toc-modified-id=\"Rename-columns-1.4\"><span class=\"toc-item-num\">1.4&nbsp;&nbsp;</span>Rename columns</a></span></li><li><span><a href=\"#View-basic-information\" data-toc-modified-id=\"View-basic-information-1.5\"><span class=\"toc-item-num\">1.5&nbsp;&nbsp;</span>View basic information</a></span></li><li><span><a href=\"#Get-rid-of-null-values-in-the-&quot;tenure&quot;-column\" data-toc-modified-id=\"Get-rid-of-null-values-in-the-&quot;tenure&quot;-column-1.6\"><span class=\"toc-item-num\">1.6&nbsp;&nbsp;</span>Get rid of null values in the \"tenure\" column</a></span></li><li><span><a href=\"#Let's-delete-the-column-with-the-row-index,-since-the-values-​​in-it-match-the-index,-and-the-columns-with-the-user's-last-name-and-id,-since-we-don't-need-them-for-further-analysis.\" data-toc-modified-id=\"Let's-delete-the-column-with-the-row-index,-since-the-values-​​in-it-match-the-index,-and-the-columns-with-the-user's-last-name-and-id,-since-we-don't-need-them-for-further-analysis.-1.7\"><span class=\"toc-item-num\">1.7&nbsp;&nbsp;</span>Let's delete the column with the row index, since the values ​​in it match the index, and the columns with the user's last name and id, since we don't need them for further analysis.</a></span></li><li><span><a href=\"#Using-OneHotEncoding\" data-toc-modified-id=\"Using-OneHotEncoding-1.8\"><span class=\"toc-item-num\">1.8&nbsp;&nbsp;</span>Using OneHotEncoding</a></span></li><li><span><a href=\"#Divide-data-into-features-and-target-feature\" data-toc-modified-id=\"Divide-data-into-features-and-target-feature-1.9\"><span class=\"toc-item-num\">1.9&nbsp;&nbsp;</span>Divide data into features and target feature</a></span></li><li><span><a href=\"#Let's-see-the-number-of-objects-of-negative-and-positive-class\" data-toc-modified-id=\"Let's-see-the-number-of-objects-of-negative-and-positive-class-1.10\"><span class=\"toc-item-num\">1.10&nbsp;&nbsp;</span>Let's see the number of objects of negative and positive class</a></span></li><li><span><a href=\"#We-divide-the-initial-data-into-training,-validation-and-test-sets.-Let's-take-the-ratio-of-60/20/20%,-respectively.-To-begin-with,-let's-try-without-taking-into-account-the-imbalance\" data-toc-modified-id=\"We-divide-the-initial-data-into-training,-validation-and-test-sets.-Let's-take-the-ratio-of-60/20/20%,-respectively.-To-begin-with,-let's-try-without-taking-into-account-the-imbalance-1.11\"><span class=\"toc-item-num\">1.11&nbsp;&nbsp;</span>We divide the initial data into training, validation and test sets. Let's take the ratio of 60/20/20%, respectively. To begin with, let's try without taking into account the imbalance</a></span></li><li><span><a href=\"#Using-scaler\" data-toc-modified-id=\"Using-scaler-1.12\"><span class=\"toc-item-num\">1.12&nbsp;&nbsp;</span>Using scaler</a></span></li></ul></li><li><span><a href=\"#Problem-research\" data-toc-modified-id=\"Problem-research-2\"><span class=\"toc-item-num\">2&nbsp;&nbsp;</span>Problem research</a></span><ul class=\"toc-item\"><li><span><a href=\"#Using-a-decision-tree\" data-toc-modified-id=\"Using-a-decision-tree-2.1\"><span class=\"toc-item-num\">2.1&nbsp;&nbsp;</span>Using a decision tree</a></span></li><li><span><a href=\"#Let's-try-random-forest\" data-toc-modified-id=\"Let's-try-random-forest-2.2\"><span class=\"toc-item-num\">2.2&nbsp;&nbsp;</span>Let's try random forest</a></span></li><li><span><a href=\"#And-let's-see-the-logistic-regression\" data-toc-modified-id=\"And-let's-see-the-logistic-regression-2.3\"><span class=\"toc-item-num\">2.3&nbsp;&nbsp;</span>And let's see the logistic regression</a></span></li></ul></li><li><span><a href=\"#Fighting-imbalance\" data-toc-modified-id=\"Fighting-imbalance-3\"><span class=\"toc-item-num\">3&nbsp;&nbsp;</span>Fighting imbalance</a></span><ul class=\"toc-item\"><li><span><a href=\"#Upsampling\" data-toc-modified-id=\"Upsampling-3.1\"><span class=\"toc-item-num\">3.1&nbsp;&nbsp;</span>Upsampling</a></span></li><li><span><a href=\"#Check-the-decision-tree-after-correcting-the-imbalance\" data-toc-modified-id=\"Check-the-decision-tree-after-correcting-the-imbalance-3.2\"><span class=\"toc-item-num\">3.2&nbsp;&nbsp;</span>Check the decision tree after correcting the imbalance</a></span></li><li><span><a href=\"#Now-random-forest\" data-toc-modified-id=\"Now-random-forest-3.3\"><span class=\"toc-item-num\">3.3&nbsp;&nbsp;</span>Now random forest</a></span></li><li><span><a href=\"#Downsampling\" data-toc-modified-id=\"Downsampling-3.4\"><span class=\"toc-item-num\">3.4&nbsp;&nbsp;</span>Downsampling</a></span></li><li><span><a href=\"#Let's-check-f1-in-the-decision-tree\" data-toc-modified-id=\"Let's-check-f1-in-the-decision-tree-3.5\"><span class=\"toc-item-num\">3.5&nbsp;&nbsp;</span>Let's check f1 in the decision tree</a></span></li><li><span><a href=\"#Now-let's-check-the-random-forest\" data-toc-modified-id=\"Now-let's-check-the-random-forest-3.6\"><span class=\"toc-item-num\">3.6&nbsp;&nbsp;</span>Now let's check the random forest</a></span></li><li><span><a href=\"#And-check-the-logistic-regression\" data-toc-modified-id=\"And-check-the-logistic-regression-3.7\"><span class=\"toc-item-num\">3.7&nbsp;&nbsp;</span>And check the logistic regression</a></span></li></ul></li><li><span><a href=\"#Model-testing\" data-toc-modified-id=\"Model-testing-4\"><span class=\"toc-item-num\">4&nbsp;&nbsp;</span>Model testing</a></span><ul class=\"toc-item\"><li><span><a href=\"#Conclusion.\" data-toc-modified-id=\"Conclusion.-4.1\"><span class=\"toc-item-num\">4.1&nbsp;&nbsp;</span>Conclusion.</a></span></li></ul></li></ul></div>"
   ]
  },
  {
   "cell_type": "code",
   "execution_count": 1,
   "id": "b76a4ef1",
   "metadata": {
    "ExecuteTime": {
     "end_time": "2023-09-05T20:46:28.739468Z",
     "start_time": "2023-09-05T20:46:14.150978Z"
    }
   },
   "outputs": [
    {
     "name": "stdout",
     "output_type": "stream",
     "text": [
      "Requirement already satisfied: scikit-learn==1.1.3 in /opt/anaconda3/lib/python3.9/site-packages (1.1.3)\n",
      "Requirement already satisfied: numpy>=1.17.3 in /opt/anaconda3/lib/python3.9/site-packages (from scikit-learn==1.1.3) (1.21.5)\n",
      "Requirement already satisfied: scipy>=1.3.2 in /opt/anaconda3/lib/python3.9/site-packages (from scikit-learn==1.1.3) (1.9.1)\n",
      "Requirement already satisfied: joblib>=1.0.0 in /opt/anaconda3/lib/python3.9/site-packages (from scikit-learn==1.1.3) (1.2.0)\n",
      "Requirement already satisfied: threadpoolctl>=2.0.0 in /opt/anaconda3/lib/python3.9/site-packages (from scikit-learn==1.1.3) (2.2.0)\n"
     ]
    }
   ],
   "source": [
    "!pip install scikit-learn==1.1.3"
   ]
  },
  {
   "cell_type": "code",
   "execution_count": 2,
   "id": "451f1b41",
   "metadata": {
    "ExecuteTime": {
     "end_time": "2023-09-05T20:46:50.636482Z",
     "start_time": "2023-09-05T20:46:28.759651Z"
    }
   },
   "outputs": [
    {
     "name": "stdout",
     "output_type": "stream",
     "text": [
      "Requirement already satisfied: imblearn in /opt/anaconda3/lib/python3.9/site-packages (0.0)\n",
      "Requirement already satisfied: imbalanced-learn in /opt/anaconda3/lib/python3.9/site-packages (from imblearn) (0.10.1)\n",
      "Requirement already satisfied: numpy>=1.17.3 in /opt/anaconda3/lib/python3.9/site-packages (from imbalanced-learn->imblearn) (1.21.5)\n",
      "Requirement already satisfied: scipy>=1.3.2 in /opt/anaconda3/lib/python3.9/site-packages (from imbalanced-learn->imblearn) (1.9.1)\n",
      "Requirement already satisfied: scikit-learn>=1.0.2 in /opt/anaconda3/lib/python3.9/site-packages (from imbalanced-learn->imblearn) (1.1.3)\n",
      "Requirement already satisfied: joblib>=1.1.1 in /opt/anaconda3/lib/python3.9/site-packages (from imbalanced-learn->imblearn) (1.2.0)\n",
      "Requirement already satisfied: threadpoolctl>=2.0.0 in /opt/anaconda3/lib/python3.9/site-packages (from imbalanced-learn->imblearn) (2.2.0)\n"
     ]
    }
   ],
   "source": [
    "!pip install imblearn"
   ]
  },
  {
   "cell_type": "markdown",
   "id": "2edbd8f5",
   "metadata": {},
   "source": [
    "# Customer churn"
   ]
  },
  {
   "cell_type": "markdown",
   "id": "299f1691",
   "metadata": {},
   "source": [
    "Customers began to leave Beta-Bank. Every month. A little, but noticeable. Banking marketers figured it was cheaper to keep current customers than to attract new ones.\n",
    "\n",
    "It is necessary to predict whether the client will leave the bank in the near future or not. You are provided with historical data on customer behavior and termination of agreements with the bank.\n",
    "\n",
    "Build a model with an extremely large *F1*-measure. To pass the project successfully, you need to bring the metric to 0.59. Check the *F1*-measure on the test set yourself.\n",
    "\n",
    "Additionally measure *AUC-ROC*, compare its value with *F1*-measure.\n",
    "\n",
    "Data source: [https://www.kaggle.com/barelydedicated/bank-customer-churn-modeling](https://www.kaggle.com/barelydedicated/bank-customer-churn-modeling)"
   ]
  },
  {
   "cell_type": "markdown",
   "id": "4540b8e6",
   "metadata": {},
   "source": [
    "## Data preparation"
   ]
  },
  {
   "cell_type": "markdown",
   "id": "6432c491",
   "metadata": {},
   "source": [
    "Project implementation plan:\n",
    "\n",
    "Load and prepare data.\n",
    "\n",
    "We investigate the balance of classes, train the model without taking into account the imbalance. Let us briefly describe the conclusions.\n",
    "\n",
    "Let's improve the quality of the model, taking into account the imbalance of classes. We will train different models and find the best one. Let us briefly describe the conclusions.\n",
    "\n",
    "Let's do the final test."
   ]
  },
  {
   "cell_type": "markdown",
   "id": "88a4be86",
   "metadata": {},
   "source": [
    "### We import the modules and libraries necessary for work"
   ]
  },
  {
   "cell_type": "code",
   "execution_count": 3,
   "id": "056c0a3c",
   "metadata": {
    "ExecuteTime": {
     "end_time": "2023-09-05T20:46:57.411763Z",
     "start_time": "2023-09-05T20:46:50.641702Z"
    }
   },
   "outputs": [],
   "source": [
    "from joblib import dump\n",
    "import pandas as pd\n",
    "import numpy as np\n",
    "import matplotlib.pyplot as plt \n",
    "\n",
    "from sklearn.metrics import (\n",
    "    accuracy_score,\n",
    "    f1_score,\n",
    "    roc_auc_score,\n",
    "    precision_score,\n",
    "    recall_score,\n",
    "    confusion_matrix,\n",
    "    roc_curve\n",
    ")\n",
    "\n",
    "from sklearn.model_selection import train_test_split\n",
    "from sklearn.preprocessing import StandardScaler, MinMaxScaler, OneHotEncoder\n",
    "\n",
    "from sklearn.dummy import DummyClassifier\n",
    "\n",
    "from sklearn.linear_model import LogisticRegression\n",
    "from sklearn.tree import DecisionTreeClassifier\n",
    "from sklearn.ensemble import RandomForestClassifier\n",
    "from sklearn.utils import shuffle"
   ]
  },
  {
   "cell_type": "markdown",
   "id": "f4caa08e",
   "metadata": {},
   "source": [
    "### Let's open the table"
   ]
  },
  {
   "cell_type": "code",
   "execution_count": 4,
   "id": "6074fd24",
   "metadata": {
    "ExecuteTime": {
     "end_time": "2023-09-05T20:46:58.534649Z",
     "start_time": "2023-09-05T20:46:57.425701Z"
    }
   },
   "outputs": [],
   "source": [
    "try:\n",
    "    data = pd.read_csv('/datasets/Churn.csv', sep=',')\n",
    "except:\n",
    "    data = pd.read_csv('https://code.s3.yandex.net/datasets/Churn.csv',\n",
    "                       sep=',')"
   ]
  },
  {
   "cell_type": "markdown",
   "id": "f15dcf00",
   "metadata": {},
   "source": [
    "### Let's study the data"
   ]
  },
  {
   "cell_type": "code",
   "execution_count": 5,
   "id": "1f1e82c0",
   "metadata": {
    "ExecuteTime": {
     "end_time": "2023-09-05T20:46:58.762046Z",
     "start_time": "2023-09-05T20:46:58.548983Z"
    },
    "scrolled": true
   },
   "outputs": [
    {
     "data": {
      "text/html": [
       "<div>\n",
       "<style scoped>\n",
       "    .dataframe tbody tr th:only-of-type {\n",
       "        vertical-align: middle;\n",
       "    }\n",
       "\n",
       "    .dataframe tbody tr th {\n",
       "        vertical-align: top;\n",
       "    }\n",
       "\n",
       "    .dataframe thead th {\n",
       "        text-align: right;\n",
       "    }\n",
       "</style>\n",
       "<table border=\"1\" class=\"dataframe\">\n",
       "  <thead>\n",
       "    <tr style=\"text-align: right;\">\n",
       "      <th></th>\n",
       "      <th>RowNumber</th>\n",
       "      <th>CustomerId</th>\n",
       "      <th>Surname</th>\n",
       "      <th>CreditScore</th>\n",
       "      <th>Geography</th>\n",
       "      <th>Gender</th>\n",
       "      <th>Age</th>\n",
       "      <th>Tenure</th>\n",
       "      <th>Balance</th>\n",
       "      <th>NumOfProducts</th>\n",
       "      <th>HasCrCard</th>\n",
       "      <th>IsActiveMember</th>\n",
       "      <th>EstimatedSalary</th>\n",
       "      <th>Exited</th>\n",
       "    </tr>\n",
       "  </thead>\n",
       "  <tbody>\n",
       "    <tr>\n",
       "      <th>0</th>\n",
       "      <td>1</td>\n",
       "      <td>15634602</td>\n",
       "      <td>Hargrave</td>\n",
       "      <td>619</td>\n",
       "      <td>France</td>\n",
       "      <td>Female</td>\n",
       "      <td>42</td>\n",
       "      <td>2.0</td>\n",
       "      <td>0.00</td>\n",
       "      <td>1</td>\n",
       "      <td>1</td>\n",
       "      <td>1</td>\n",
       "      <td>101348.88</td>\n",
       "      <td>1</td>\n",
       "    </tr>\n",
       "    <tr>\n",
       "      <th>1</th>\n",
       "      <td>2</td>\n",
       "      <td>15647311</td>\n",
       "      <td>Hill</td>\n",
       "      <td>608</td>\n",
       "      <td>Spain</td>\n",
       "      <td>Female</td>\n",
       "      <td>41</td>\n",
       "      <td>1.0</td>\n",
       "      <td>83807.86</td>\n",
       "      <td>1</td>\n",
       "      <td>0</td>\n",
       "      <td>1</td>\n",
       "      <td>112542.58</td>\n",
       "      <td>0</td>\n",
       "    </tr>\n",
       "    <tr>\n",
       "      <th>2</th>\n",
       "      <td>3</td>\n",
       "      <td>15619304</td>\n",
       "      <td>Onio</td>\n",
       "      <td>502</td>\n",
       "      <td>France</td>\n",
       "      <td>Female</td>\n",
       "      <td>42</td>\n",
       "      <td>8.0</td>\n",
       "      <td>159660.80</td>\n",
       "      <td>3</td>\n",
       "      <td>1</td>\n",
       "      <td>0</td>\n",
       "      <td>113931.57</td>\n",
       "      <td>1</td>\n",
       "    </tr>\n",
       "    <tr>\n",
       "      <th>3</th>\n",
       "      <td>4</td>\n",
       "      <td>15701354</td>\n",
       "      <td>Boni</td>\n",
       "      <td>699</td>\n",
       "      <td>France</td>\n",
       "      <td>Female</td>\n",
       "      <td>39</td>\n",
       "      <td>1.0</td>\n",
       "      <td>0.00</td>\n",
       "      <td>2</td>\n",
       "      <td>0</td>\n",
       "      <td>0</td>\n",
       "      <td>93826.63</td>\n",
       "      <td>0</td>\n",
       "    </tr>\n",
       "    <tr>\n",
       "      <th>4</th>\n",
       "      <td>5</td>\n",
       "      <td>15737888</td>\n",
       "      <td>Mitchell</td>\n",
       "      <td>850</td>\n",
       "      <td>Spain</td>\n",
       "      <td>Female</td>\n",
       "      <td>43</td>\n",
       "      <td>2.0</td>\n",
       "      <td>125510.82</td>\n",
       "      <td>1</td>\n",
       "      <td>1</td>\n",
       "      <td>1</td>\n",
       "      <td>79084.10</td>\n",
       "      <td>0</td>\n",
       "    </tr>\n",
       "  </tbody>\n",
       "</table>\n",
       "</div>"
      ],
      "text/plain": [
       "   RowNumber  CustomerId   Surname  CreditScore Geography  Gender  Age  \\\n",
       "0          1    15634602  Hargrave          619    France  Female   42   \n",
       "1          2    15647311      Hill          608     Spain  Female   41   \n",
       "2          3    15619304      Onio          502    France  Female   42   \n",
       "3          4    15701354      Boni          699    France  Female   39   \n",
       "4          5    15737888  Mitchell          850     Spain  Female   43   \n",
       "\n",
       "   Tenure    Balance  NumOfProducts  HasCrCard  IsActiveMember  \\\n",
       "0     2.0       0.00              1          1               1   \n",
       "1     1.0   83807.86              1          0               1   \n",
       "2     8.0  159660.80              3          1               0   \n",
       "3     1.0       0.00              2          0               0   \n",
       "4     2.0  125510.82              1          1               1   \n",
       "\n",
       "   EstimatedSalary  Exited  \n",
       "0        101348.88       1  \n",
       "1        112542.58       0  \n",
       "2        113931.57       1  \n",
       "3         93826.63       0  \n",
       "4         79084.10       0  "
      ]
     },
     "execution_count": 5,
     "metadata": {},
     "output_type": "execute_result"
    }
   ],
   "source": [
    "data.head()"
   ]
  },
  {
   "cell_type": "markdown",
   "id": "455f4434",
   "metadata": {},
   "source": [
    "Signs\n",
    "\n",
    "RowNumber - row index in data\n",
    "\n",
    "CustomerId - unique customer identifier\n",
    "\n",
    "Surname - surname\n",
    "\n",
    "CreditScore - credit rating\n",
    "\n",
    "Geography - country of residence\n",
    "\n",
    "gender\n",
    "\n",
    "Age - age\n",
    "\n",
    "Tenure - how many years a person has been a bank client\n",
    "\n",
    "Balance - account balance\n",
    "\n",
    "NumOfProducts - the number of bank products used by the client\n",
    "\n",
    "HasCrCard - the presence of a credit card\n",
    "\n",
    "IsActiveMember - client activity\n",
    "\n",
    "EstimatedSalary - estimated salary\n",
    "\n",
    "\n",
    "Target feature\n",
    "\n",
    "Exited - the fact that the client left"
   ]
  },
  {
   "cell_type": "markdown",
   "id": "066314af",
   "metadata": {},
   "source": [
    "### Rename columns"
   ]
  },
  {
   "cell_type": "code",
   "execution_count": 6,
   "id": "15f70402",
   "metadata": {
    "ExecuteTime": {
     "end_time": "2023-09-05T20:46:58.797907Z",
     "start_time": "2023-09-05T20:46:58.779758Z"
    }
   },
   "outputs": [],
   "source": [
    "data.columns = ['row_number', 'customer_id', 'surname', 'credit_score', 'geography', 'gender', 'age', 'tenure', 'balance', 'num_of_products', 'has_cr_card', 'is_active_member', 'estimated_salary', 'exited']"
   ]
  },
  {
   "cell_type": "markdown",
   "id": "15a7ef02",
   "metadata": {},
   "source": [
    "### View basic information"
   ]
  },
  {
   "cell_type": "code",
   "execution_count": 7,
   "id": "244060c0",
   "metadata": {
    "ExecuteTime": {
     "end_time": "2023-09-05T20:46:59.193629Z",
     "start_time": "2023-09-05T20:46:58.813705Z"
    }
   },
   "outputs": [
    {
     "data": {
      "text/html": [
       "<div>\n",
       "<style scoped>\n",
       "    .dataframe tbody tr th:only-of-type {\n",
       "        vertical-align: middle;\n",
       "    }\n",
       "\n",
       "    .dataframe tbody tr th {\n",
       "        vertical-align: top;\n",
       "    }\n",
       "\n",
       "    .dataframe thead th {\n",
       "        text-align: right;\n",
       "    }\n",
       "</style>\n",
       "<table border=\"1\" class=\"dataframe\">\n",
       "  <thead>\n",
       "    <tr style=\"text-align: right;\">\n",
       "      <th></th>\n",
       "      <th>count</th>\n",
       "      <th>unique</th>\n",
       "      <th>top</th>\n",
       "      <th>freq</th>\n",
       "      <th>mean</th>\n",
       "      <th>std</th>\n",
       "      <th>min</th>\n",
       "      <th>25%</th>\n",
       "      <th>50%</th>\n",
       "      <th>75%</th>\n",
       "      <th>max</th>\n",
       "    </tr>\n",
       "  </thead>\n",
       "  <tbody>\n",
       "    <tr>\n",
       "      <th>row_number</th>\n",
       "      <td>10000.0</td>\n",
       "      <td>NaN</td>\n",
       "      <td>NaN</td>\n",
       "      <td>NaN</td>\n",
       "      <td>5000.5</td>\n",
       "      <td>2886.89568</td>\n",
       "      <td>1.0</td>\n",
       "      <td>2500.75</td>\n",
       "      <td>5000.5</td>\n",
       "      <td>7500.25</td>\n",
       "      <td>10000.0</td>\n",
       "    </tr>\n",
       "    <tr>\n",
       "      <th>customer_id</th>\n",
       "      <td>10000.0</td>\n",
       "      <td>NaN</td>\n",
       "      <td>NaN</td>\n",
       "      <td>NaN</td>\n",
       "      <td>15690940.5694</td>\n",
       "      <td>71936.186123</td>\n",
       "      <td>15565701.0</td>\n",
       "      <td>15628528.25</td>\n",
       "      <td>15690738.0</td>\n",
       "      <td>15753233.75</td>\n",
       "      <td>15815690.0</td>\n",
       "    </tr>\n",
       "    <tr>\n",
       "      <th>surname</th>\n",
       "      <td>10000</td>\n",
       "      <td>2932</td>\n",
       "      <td>Smith</td>\n",
       "      <td>32</td>\n",
       "      <td>NaN</td>\n",
       "      <td>NaN</td>\n",
       "      <td>NaN</td>\n",
       "      <td>NaN</td>\n",
       "      <td>NaN</td>\n",
       "      <td>NaN</td>\n",
       "      <td>NaN</td>\n",
       "    </tr>\n",
       "    <tr>\n",
       "      <th>credit_score</th>\n",
       "      <td>10000.0</td>\n",
       "      <td>NaN</td>\n",
       "      <td>NaN</td>\n",
       "      <td>NaN</td>\n",
       "      <td>650.5288</td>\n",
       "      <td>96.653299</td>\n",
       "      <td>350.0</td>\n",
       "      <td>584.0</td>\n",
       "      <td>652.0</td>\n",
       "      <td>718.0</td>\n",
       "      <td>850.0</td>\n",
       "    </tr>\n",
       "    <tr>\n",
       "      <th>geography</th>\n",
       "      <td>10000</td>\n",
       "      <td>3</td>\n",
       "      <td>France</td>\n",
       "      <td>5014</td>\n",
       "      <td>NaN</td>\n",
       "      <td>NaN</td>\n",
       "      <td>NaN</td>\n",
       "      <td>NaN</td>\n",
       "      <td>NaN</td>\n",
       "      <td>NaN</td>\n",
       "      <td>NaN</td>\n",
       "    </tr>\n",
       "    <tr>\n",
       "      <th>gender</th>\n",
       "      <td>10000</td>\n",
       "      <td>2</td>\n",
       "      <td>Male</td>\n",
       "      <td>5457</td>\n",
       "      <td>NaN</td>\n",
       "      <td>NaN</td>\n",
       "      <td>NaN</td>\n",
       "      <td>NaN</td>\n",
       "      <td>NaN</td>\n",
       "      <td>NaN</td>\n",
       "      <td>NaN</td>\n",
       "    </tr>\n",
       "    <tr>\n",
       "      <th>age</th>\n",
       "      <td>10000.0</td>\n",
       "      <td>NaN</td>\n",
       "      <td>NaN</td>\n",
       "      <td>NaN</td>\n",
       "      <td>38.9218</td>\n",
       "      <td>10.487806</td>\n",
       "      <td>18.0</td>\n",
       "      <td>32.0</td>\n",
       "      <td>37.0</td>\n",
       "      <td>44.0</td>\n",
       "      <td>92.0</td>\n",
       "    </tr>\n",
       "    <tr>\n",
       "      <th>tenure</th>\n",
       "      <td>9091.0</td>\n",
       "      <td>NaN</td>\n",
       "      <td>NaN</td>\n",
       "      <td>NaN</td>\n",
       "      <td>4.99769</td>\n",
       "      <td>2.894723</td>\n",
       "      <td>0.0</td>\n",
       "      <td>2.0</td>\n",
       "      <td>5.0</td>\n",
       "      <td>7.0</td>\n",
       "      <td>10.0</td>\n",
       "    </tr>\n",
       "    <tr>\n",
       "      <th>balance</th>\n",
       "      <td>10000.0</td>\n",
       "      <td>NaN</td>\n",
       "      <td>NaN</td>\n",
       "      <td>NaN</td>\n",
       "      <td>76485.889288</td>\n",
       "      <td>62397.405202</td>\n",
       "      <td>0.0</td>\n",
       "      <td>0.0</td>\n",
       "      <td>97198.54</td>\n",
       "      <td>127644.24</td>\n",
       "      <td>250898.09</td>\n",
       "    </tr>\n",
       "    <tr>\n",
       "      <th>num_of_products</th>\n",
       "      <td>10000.0</td>\n",
       "      <td>NaN</td>\n",
       "      <td>NaN</td>\n",
       "      <td>NaN</td>\n",
       "      <td>1.5302</td>\n",
       "      <td>0.581654</td>\n",
       "      <td>1.0</td>\n",
       "      <td>1.0</td>\n",
       "      <td>1.0</td>\n",
       "      <td>2.0</td>\n",
       "      <td>4.0</td>\n",
       "    </tr>\n",
       "    <tr>\n",
       "      <th>has_cr_card</th>\n",
       "      <td>10000.0</td>\n",
       "      <td>NaN</td>\n",
       "      <td>NaN</td>\n",
       "      <td>NaN</td>\n",
       "      <td>0.7055</td>\n",
       "      <td>0.45584</td>\n",
       "      <td>0.0</td>\n",
       "      <td>0.0</td>\n",
       "      <td>1.0</td>\n",
       "      <td>1.0</td>\n",
       "      <td>1.0</td>\n",
       "    </tr>\n",
       "    <tr>\n",
       "      <th>is_active_member</th>\n",
       "      <td>10000.0</td>\n",
       "      <td>NaN</td>\n",
       "      <td>NaN</td>\n",
       "      <td>NaN</td>\n",
       "      <td>0.5151</td>\n",
       "      <td>0.499797</td>\n",
       "      <td>0.0</td>\n",
       "      <td>0.0</td>\n",
       "      <td>1.0</td>\n",
       "      <td>1.0</td>\n",
       "      <td>1.0</td>\n",
       "    </tr>\n",
       "    <tr>\n",
       "      <th>estimated_salary</th>\n",
       "      <td>10000.0</td>\n",
       "      <td>NaN</td>\n",
       "      <td>NaN</td>\n",
       "      <td>NaN</td>\n",
       "      <td>100090.239881</td>\n",
       "      <td>57510.492818</td>\n",
       "      <td>11.58</td>\n",
       "      <td>51002.11</td>\n",
       "      <td>100193.915</td>\n",
       "      <td>149388.2475</td>\n",
       "      <td>199992.48</td>\n",
       "    </tr>\n",
       "    <tr>\n",
       "      <th>exited</th>\n",
       "      <td>10000.0</td>\n",
       "      <td>NaN</td>\n",
       "      <td>NaN</td>\n",
       "      <td>NaN</td>\n",
       "      <td>0.2037</td>\n",
       "      <td>0.402769</td>\n",
       "      <td>0.0</td>\n",
       "      <td>0.0</td>\n",
       "      <td>0.0</td>\n",
       "      <td>0.0</td>\n",
       "      <td>1.0</td>\n",
       "    </tr>\n",
       "  </tbody>\n",
       "</table>\n",
       "</div>"
      ],
      "text/plain": [
       "                    count unique     top  freq           mean           std  \\\n",
       "row_number        10000.0    NaN     NaN   NaN         5000.5    2886.89568   \n",
       "customer_id       10000.0    NaN     NaN   NaN  15690940.5694  71936.186123   \n",
       "surname             10000   2932   Smith    32            NaN           NaN   \n",
       "credit_score      10000.0    NaN     NaN   NaN       650.5288     96.653299   \n",
       "geography           10000      3  France  5014            NaN           NaN   \n",
       "gender              10000      2    Male  5457            NaN           NaN   \n",
       "age               10000.0    NaN     NaN   NaN        38.9218     10.487806   \n",
       "tenure             9091.0    NaN     NaN   NaN        4.99769      2.894723   \n",
       "balance           10000.0    NaN     NaN   NaN   76485.889288  62397.405202   \n",
       "num_of_products   10000.0    NaN     NaN   NaN         1.5302      0.581654   \n",
       "has_cr_card       10000.0    NaN     NaN   NaN         0.7055       0.45584   \n",
       "is_active_member  10000.0    NaN     NaN   NaN         0.5151      0.499797   \n",
       "estimated_salary  10000.0    NaN     NaN   NaN  100090.239881  57510.492818   \n",
       "exited            10000.0    NaN     NaN   NaN         0.2037      0.402769   \n",
       "\n",
       "                         min          25%         50%          75%         max  \n",
       "row_number               1.0      2500.75      5000.5      7500.25     10000.0  \n",
       "customer_id       15565701.0  15628528.25  15690738.0  15753233.75  15815690.0  \n",
       "surname                  NaN          NaN         NaN          NaN         NaN  \n",
       "credit_score           350.0        584.0       652.0        718.0       850.0  \n",
       "geography                NaN          NaN         NaN          NaN         NaN  \n",
       "gender                   NaN          NaN         NaN          NaN         NaN  \n",
       "age                     18.0         32.0        37.0         44.0        92.0  \n",
       "tenure                   0.0          2.0         5.0          7.0        10.0  \n",
       "balance                  0.0          0.0    97198.54    127644.24   250898.09  \n",
       "num_of_products          1.0          1.0         1.0          2.0         4.0  \n",
       "has_cr_card              0.0          0.0         1.0          1.0         1.0  \n",
       "is_active_member         0.0          0.0         1.0          1.0         1.0  \n",
       "estimated_salary       11.58     51002.11  100193.915  149388.2475   199992.48  \n",
       "exited                   0.0          0.0         0.0          0.0         1.0  "
      ]
     },
     "execution_count": 7,
     "metadata": {},
     "output_type": "execute_result"
    }
   ],
   "source": [
    "data.describe(include='all').T"
   ]
  },
  {
   "cell_type": "code",
   "execution_count": 8,
   "id": "e4728f1c",
   "metadata": {
    "ExecuteTime": {
     "end_time": "2023-09-05T20:46:59.277093Z",
     "start_time": "2023-09-05T20:46:59.203244Z"
    },
    "scrolled": true
   },
   "outputs": [
    {
     "name": "stdout",
     "output_type": "stream",
     "text": [
      "<class 'pandas.core.frame.DataFrame'>\n",
      "RangeIndex: 10000 entries, 0 to 9999\n",
      "Data columns (total 14 columns):\n",
      " #   Column            Non-Null Count  Dtype  \n",
      "---  ------            --------------  -----  \n",
      " 0   row_number        10000 non-null  int64  \n",
      " 1   customer_id       10000 non-null  int64  \n",
      " 2   surname           10000 non-null  object \n",
      " 3   credit_score      10000 non-null  int64  \n",
      " 4   geography         10000 non-null  object \n",
      " 5   gender            10000 non-null  object \n",
      " 6   age               10000 non-null  int64  \n",
      " 7   tenure            9091 non-null   float64\n",
      " 8   balance           10000 non-null  float64\n",
      " 9   num_of_products   10000 non-null  int64  \n",
      " 10  has_cr_card       10000 non-null  int64  \n",
      " 11  is_active_member  10000 non-null  int64  \n",
      " 12  estimated_salary  10000 non-null  float64\n",
      " 13  exited            10000 non-null  int64  \n",
      "dtypes: float64(3), int64(8), object(3)\n",
      "memory usage: 1.1+ MB\n"
     ]
    }
   ],
   "source": [
    "data.info()"
   ]
  },
  {
   "cell_type": "code",
   "execution_count": 9,
   "id": "b916e2a7",
   "metadata": {
    "ExecuteTime": {
     "end_time": "2023-09-05T20:46:59.414234Z",
     "start_time": "2023-09-05T20:46:59.284226Z"
    }
   },
   "outputs": [
    {
     "name": "stdout",
     "output_type": "stream",
     "text": [
      "<class 'pandas.core.frame.DataFrame'>\n",
      "RangeIndex: 10000 entries, 0 to 9999\n",
      "Data columns (total 14 columns):\n",
      " #   Column            Non-Null Count  Dtype  \n",
      "---  ------            --------------  -----  \n",
      " 0   row_number        10000 non-null  int64  \n",
      " 1   customer_id       10000 non-null  int64  \n",
      " 2   surname           10000 non-null  object \n",
      " 3   credit_score      10000 non-null  int64  \n",
      " 4   geography         10000 non-null  object \n",
      " 5   gender            10000 non-null  object \n",
      " 6   age               10000 non-null  int64  \n",
      " 7   tenure            9091 non-null   float64\n",
      " 8   balance           10000 non-null  float64\n",
      " 9   num_of_products   10000 non-null  int64  \n",
      " 10  has_cr_card       10000 non-null  int64  \n",
      " 11  is_active_member  10000 non-null  int64  \n",
      " 12  estimated_salary  10000 non-null  float64\n",
      " 13  exited            10000 non-null  int64  \n",
      "dtypes: float64(3), int64(8), object(3)\n",
      "memory usage: 1.1+ MB\n"
     ]
    }
   ],
   "source": [
    "data.drop_duplicates()\n",
    "data.info()"
   ]
  },
  {
   "cell_type": "code",
   "execution_count": 10,
   "id": "39587649",
   "metadata": {
    "ExecuteTime": {
     "end_time": "2023-09-05T20:46:59.444326Z",
     "start_time": "2023-09-05T20:46:59.430214Z"
    }
   },
   "outputs": [
    {
     "data": {
      "text/plain": [
       "909"
      ]
     },
     "execution_count": 10,
     "metadata": {},
     "output_type": "execute_result"
    }
   ],
   "source": [
    "data['tenure'].isna().sum()"
   ]
  },
  {
   "cell_type": "markdown",
   "id": "4bfe1a6e",
   "metadata": {},
   "source": [
    "### Get rid of null values in the \"tenure\" column"
   ]
  },
  {
   "cell_type": "code",
   "execution_count": 11,
   "id": "42eea3d6",
   "metadata": {
    "ExecuteTime": {
     "end_time": "2023-09-05T20:46:59.470342Z",
     "start_time": "2023-09-05T20:46:59.450930Z"
    }
   },
   "outputs": [
    {
     "data": {
      "text/plain": [
       "1.0     952\n",
       "2.0     950\n",
       "8.0     933\n",
       "3.0     928\n",
       "5.0     927\n",
       "7.0     925\n",
       "4.0     885\n",
       "9.0     882\n",
       "6.0     881\n",
       "10.0    446\n",
       "0.0     382\n",
       "Name: tenure, dtype: int64"
      ]
     },
     "execution_count": 11,
     "metadata": {},
     "output_type": "execute_result"
    }
   ],
   "source": [
    "data['tenure'].value_counts()"
   ]
  },
  {
   "cell_type": "markdown",
   "id": "e4ccf340",
   "metadata": {
    "ExecuteTime": {
     "end_time": "2023-03-29T20:05:23.553424Z",
     "start_time": "2023-03-29T20:05:23.520103Z"
    }
   },
   "source": [
    "By what principle the numbers are distributed, we do not know, so we fill in the median value"
   ]
  },
  {
   "cell_type": "code",
   "execution_count": 12,
   "id": "8f11906a",
   "metadata": {
    "ExecuteTime": {
     "end_time": "2023-09-05T20:46:59.625978Z",
     "start_time": "2023-09-05T20:46:59.479729Z"
    }
   },
   "outputs": [
    {
     "data": {
      "text/plain": [
       "0"
      ]
     },
     "execution_count": 12,
     "metadata": {},
     "output_type": "execute_result"
    }
   ],
   "source": [
    "data['tenure'] = data['tenure'].mask(data['tenure'].isna(),\n",
    "                                     np.random.uniform(1, 10, size=len(data)))\n",
    "data['tenure'].isna().sum()"
   ]
  },
  {
   "cell_type": "markdown",
   "id": "0eedb7af",
   "metadata": {},
   "source": [
    "### Let's delete the column with the row index, since the values ​​in it match the index, and the columns with the user's last name and id, since we don't need them for further analysis."
   ]
  },
  {
   "cell_type": "code",
   "execution_count": 13,
   "id": "2e974c69",
   "metadata": {
    "ExecuteTime": {
     "end_time": "2023-09-05T20:46:59.648766Z",
     "start_time": "2023-09-05T20:46:59.635953Z"
    }
   },
   "outputs": [],
   "source": [
    "data.drop([\"row_number\", \"surname\", \"customer_id\"], axis=1, inplace=True)"
   ]
  },
  {
   "cell_type": "code",
   "execution_count": 14,
   "id": "75bf2d5f",
   "metadata": {
    "ExecuteTime": {
     "end_time": "2023-09-05T20:46:59.714753Z",
     "start_time": "2023-09-05T20:46:59.662327Z"
    }
   },
   "outputs": [
    {
     "data": {
      "text/plain": [
       "0.2037"
      ]
     },
     "execution_count": 14,
     "metadata": {},
     "output_type": "execute_result"
    }
   ],
   "source": [
    "data['exited'].mean()"
   ]
  },
  {
   "cell_type": "markdown",
   "id": "1f2fdc13",
   "metadata": {},
   "source": [
    "This means that 20% of customers leave the bank"
   ]
  },
  {
   "cell_type": "code",
   "execution_count": 15,
   "id": "44210730",
   "metadata": {
    "ExecuteTime": {
     "end_time": "2023-09-05T20:46:59.850453Z",
     "start_time": "2023-09-05T20:46:59.759137Z"
    }
   },
   "outputs": [
    {
     "data": {
      "text/html": [
       "<div>\n",
       "<style scoped>\n",
       "    .dataframe tbody tr th:only-of-type {\n",
       "        vertical-align: middle;\n",
       "    }\n",
       "\n",
       "    .dataframe tbody tr th {\n",
       "        vertical-align: top;\n",
       "    }\n",
       "\n",
       "    .dataframe thead th {\n",
       "        text-align: right;\n",
       "    }\n",
       "</style>\n",
       "<table border=\"1\" class=\"dataframe\">\n",
       "  <thead>\n",
       "    <tr style=\"text-align: right;\">\n",
       "      <th></th>\n",
       "      <th>credit_score</th>\n",
       "      <th>geography</th>\n",
       "      <th>gender</th>\n",
       "      <th>age</th>\n",
       "      <th>tenure</th>\n",
       "      <th>balance</th>\n",
       "      <th>num_of_products</th>\n",
       "      <th>has_cr_card</th>\n",
       "      <th>is_active_member</th>\n",
       "      <th>estimated_salary</th>\n",
       "      <th>exited</th>\n",
       "    </tr>\n",
       "  </thead>\n",
       "  <tbody>\n",
       "    <tr>\n",
       "      <th>0</th>\n",
       "      <td>619</td>\n",
       "      <td>France</td>\n",
       "      <td>Female</td>\n",
       "      <td>42</td>\n",
       "      <td>2.0</td>\n",
       "      <td>0.00</td>\n",
       "      <td>1</td>\n",
       "      <td>1</td>\n",
       "      <td>1</td>\n",
       "      <td>101348.88</td>\n",
       "      <td>1</td>\n",
       "    </tr>\n",
       "    <tr>\n",
       "      <th>1</th>\n",
       "      <td>608</td>\n",
       "      <td>Spain</td>\n",
       "      <td>Female</td>\n",
       "      <td>41</td>\n",
       "      <td>1.0</td>\n",
       "      <td>83807.86</td>\n",
       "      <td>1</td>\n",
       "      <td>0</td>\n",
       "      <td>1</td>\n",
       "      <td>112542.58</td>\n",
       "      <td>0</td>\n",
       "    </tr>\n",
       "    <tr>\n",
       "      <th>2</th>\n",
       "      <td>502</td>\n",
       "      <td>France</td>\n",
       "      <td>Female</td>\n",
       "      <td>42</td>\n",
       "      <td>8.0</td>\n",
       "      <td>159660.80</td>\n",
       "      <td>3</td>\n",
       "      <td>1</td>\n",
       "      <td>0</td>\n",
       "      <td>113931.57</td>\n",
       "      <td>1</td>\n",
       "    </tr>\n",
       "    <tr>\n",
       "      <th>3</th>\n",
       "      <td>699</td>\n",
       "      <td>France</td>\n",
       "      <td>Female</td>\n",
       "      <td>39</td>\n",
       "      <td>1.0</td>\n",
       "      <td>0.00</td>\n",
       "      <td>2</td>\n",
       "      <td>0</td>\n",
       "      <td>0</td>\n",
       "      <td>93826.63</td>\n",
       "      <td>0</td>\n",
       "    </tr>\n",
       "    <tr>\n",
       "      <th>4</th>\n",
       "      <td>850</td>\n",
       "      <td>Spain</td>\n",
       "      <td>Female</td>\n",
       "      <td>43</td>\n",
       "      <td>2.0</td>\n",
       "      <td>125510.82</td>\n",
       "      <td>1</td>\n",
       "      <td>1</td>\n",
       "      <td>1</td>\n",
       "      <td>79084.10</td>\n",
       "      <td>0</td>\n",
       "    </tr>\n",
       "  </tbody>\n",
       "</table>\n",
       "</div>"
      ],
      "text/plain": [
       "   credit_score geography  gender  age  tenure    balance  num_of_products  \\\n",
       "0           619    France  Female   42     2.0       0.00                1   \n",
       "1           608     Spain  Female   41     1.0   83807.86                1   \n",
       "2           502    France  Female   42     8.0  159660.80                3   \n",
       "3           699    France  Female   39     1.0       0.00                2   \n",
       "4           850     Spain  Female   43     2.0  125510.82                1   \n",
       "\n",
       "   has_cr_card  is_active_member  estimated_salary  exited  \n",
       "0            1                 1         101348.88       1  \n",
       "1            0                 1         112542.58       0  \n",
       "2            1                 0         113931.57       1  \n",
       "3            0                 0          93826.63       0  \n",
       "4            1                 1          79084.10       0  "
      ]
     },
     "execution_count": 15,
     "metadata": {},
     "output_type": "execute_result"
    }
   ],
   "source": [
    "data.head()"
   ]
  },
  {
   "cell_type": "markdown",
   "id": "da566ef6",
   "metadata": {},
   "source": [
    "### Using OneHotEncoding"
   ]
  },
  {
   "cell_type": "code",
   "execution_count": 16,
   "id": "2b2dd84f",
   "metadata": {
    "ExecuteTime": {
     "end_time": "2023-09-05T20:46:59.974038Z",
     "start_time": "2023-09-05T20:46:59.857706Z"
    },
    "scrolled": true
   },
   "outputs": [
    {
     "data": {
      "text/html": [
       "<div>\n",
       "<style scoped>\n",
       "    .dataframe tbody tr th:only-of-type {\n",
       "        vertical-align: middle;\n",
       "    }\n",
       "\n",
       "    .dataframe tbody tr th {\n",
       "        vertical-align: top;\n",
       "    }\n",
       "\n",
       "    .dataframe thead th {\n",
       "        text-align: right;\n",
       "    }\n",
       "</style>\n",
       "<table border=\"1\" class=\"dataframe\">\n",
       "  <thead>\n",
       "    <tr style=\"text-align: right;\">\n",
       "      <th></th>\n",
       "      <th>credit_score</th>\n",
       "      <th>age</th>\n",
       "      <th>tenure</th>\n",
       "      <th>balance</th>\n",
       "      <th>num_of_products</th>\n",
       "      <th>has_cr_card</th>\n",
       "      <th>is_active_member</th>\n",
       "      <th>estimated_salary</th>\n",
       "      <th>exited</th>\n",
       "      <th>geography_Germany</th>\n",
       "      <th>geography_Spain</th>\n",
       "      <th>gender_Male</th>\n",
       "    </tr>\n",
       "  </thead>\n",
       "  <tbody>\n",
       "    <tr>\n",
       "      <th>0</th>\n",
       "      <td>619</td>\n",
       "      <td>42</td>\n",
       "      <td>2.0</td>\n",
       "      <td>0.00</td>\n",
       "      <td>1</td>\n",
       "      <td>1</td>\n",
       "      <td>1</td>\n",
       "      <td>101348.88</td>\n",
       "      <td>1</td>\n",
       "      <td>0</td>\n",
       "      <td>0</td>\n",
       "      <td>0</td>\n",
       "    </tr>\n",
       "    <tr>\n",
       "      <th>1</th>\n",
       "      <td>608</td>\n",
       "      <td>41</td>\n",
       "      <td>1.0</td>\n",
       "      <td>83807.86</td>\n",
       "      <td>1</td>\n",
       "      <td>0</td>\n",
       "      <td>1</td>\n",
       "      <td>112542.58</td>\n",
       "      <td>0</td>\n",
       "      <td>0</td>\n",
       "      <td>1</td>\n",
       "      <td>0</td>\n",
       "    </tr>\n",
       "    <tr>\n",
       "      <th>2</th>\n",
       "      <td>502</td>\n",
       "      <td>42</td>\n",
       "      <td>8.0</td>\n",
       "      <td>159660.80</td>\n",
       "      <td>3</td>\n",
       "      <td>1</td>\n",
       "      <td>0</td>\n",
       "      <td>113931.57</td>\n",
       "      <td>1</td>\n",
       "      <td>0</td>\n",
       "      <td>0</td>\n",
       "      <td>0</td>\n",
       "    </tr>\n",
       "    <tr>\n",
       "      <th>3</th>\n",
       "      <td>699</td>\n",
       "      <td>39</td>\n",
       "      <td>1.0</td>\n",
       "      <td>0.00</td>\n",
       "      <td>2</td>\n",
       "      <td>0</td>\n",
       "      <td>0</td>\n",
       "      <td>93826.63</td>\n",
       "      <td>0</td>\n",
       "      <td>0</td>\n",
       "      <td>0</td>\n",
       "      <td>0</td>\n",
       "    </tr>\n",
       "    <tr>\n",
       "      <th>4</th>\n",
       "      <td>850</td>\n",
       "      <td>43</td>\n",
       "      <td>2.0</td>\n",
       "      <td>125510.82</td>\n",
       "      <td>1</td>\n",
       "      <td>1</td>\n",
       "      <td>1</td>\n",
       "      <td>79084.10</td>\n",
       "      <td>0</td>\n",
       "      <td>0</td>\n",
       "      <td>1</td>\n",
       "      <td>0</td>\n",
       "    </tr>\n",
       "  </tbody>\n",
       "</table>\n",
       "</div>"
      ],
      "text/plain": [
       "   credit_score  age  tenure    balance  num_of_products  has_cr_card  \\\n",
       "0           619   42     2.0       0.00                1            1   \n",
       "1           608   41     1.0   83807.86                1            0   \n",
       "2           502   42     8.0  159660.80                3            1   \n",
       "3           699   39     1.0       0.00                2            0   \n",
       "4           850   43     2.0  125510.82                1            1   \n",
       "\n",
       "   is_active_member  estimated_salary  exited  geography_Germany  \\\n",
       "0                 1         101348.88       1                  0   \n",
       "1                 1         112542.58       0                  0   \n",
       "2                 0         113931.57       1                  0   \n",
       "3                 0          93826.63       0                  0   \n",
       "4                 1          79084.10       0                  0   \n",
       "\n",
       "   geography_Spain  gender_Male  \n",
       "0                0            0  \n",
       "1                1            0  \n",
       "2                0            0  \n",
       "3                0            0  \n",
       "4                1            0  "
      ]
     },
     "execution_count": 16,
     "metadata": {},
     "output_type": "execute_result"
    }
   ],
   "source": [
    "data_ohe=pd.get_dummies(data, drop_first=True)\n",
    "data_ohe.head()"
   ]
  },
  {
   "cell_type": "markdown",
   "id": "fae7d4a9",
   "metadata": {},
   "source": [
    "### Divide data into features and target feature"
   ]
  },
  {
   "cell_type": "code",
   "execution_count": 17,
   "id": "eebecc67",
   "metadata": {
    "ExecuteTime": {
     "end_time": "2023-09-05T20:46:59.995617Z",
     "start_time": "2023-09-05T20:46:59.982189Z"
    }
   },
   "outputs": [],
   "source": [
    "features = data_ohe.drop(['exited'], axis=1)\n",
    "target = data_ohe['exited']"
   ]
  },
  {
   "cell_type": "markdown",
   "id": "4dcafeb2",
   "metadata": {},
   "source": [
    "### Let's see the number of objects of negative and positive class"
   ]
  },
  {
   "cell_type": "code",
   "execution_count": 18,
   "id": "ad3b37e0",
   "metadata": {
    "ExecuteTime": {
     "end_time": "2023-09-05T20:47:00.028395Z",
     "start_time": "2023-09-05T20:47:00.007154Z"
    }
   },
   "outputs": [
    {
     "data": {
      "text/plain": [
       "((7963, 11), (2037, 11))"
      ]
     },
     "execution_count": 18,
     "metadata": {},
     "output_type": "execute_result"
    }
   ],
   "source": [
    "features[target == 0].shape, features[target == 1].shape"
   ]
  },
  {
   "cell_type": "markdown",
   "id": "d46ec24d",
   "metadata": {},
   "source": [
    "Как видим, имеется дисбаланс"
   ]
  },
  {
   "cell_type": "markdown",
   "id": "89adf274",
   "metadata": {},
   "source": [
    "### We divide the initial data into training, validation and test sets. Let's take the ratio of 60/20/20%, respectively. To begin with, let's try without taking into account the imbalance"
   ]
  },
  {
   "cell_type": "code",
   "execution_count": 19,
   "id": "0f78b645",
   "metadata": {
    "ExecuteTime": {
     "end_time": "2023-09-05T20:47:00.051635Z",
     "start_time": "2023-09-05T20:47:00.033920Z"
    }
   },
   "outputs": [],
   "source": [
    "features_train, features_valid, target_train, target_valid = (\n",
    "    train_test_split(\n",
    "        features, target, test_size=0.4,\n",
    "        random_state=12345))"
   ]
  },
  {
   "cell_type": "markdown",
   "id": "a1097f77",
   "metadata": {},
   "source": [
    "We got a training sample = 60%, a validation sample - 40%. Now let's split the validation in half, and get the validation and test"
   ]
  },
  {
   "cell_type": "code",
   "execution_count": 20,
   "id": "a75f889d",
   "metadata": {
    "ExecuteTime": {
     "end_time": "2023-09-05T20:47:00.072907Z",
     "start_time": "2023-09-05T20:47:00.060622Z"
    }
   },
   "outputs": [],
   "source": [
    "features_valid, features_test, target_valid, target_test =(\n",
    "    train_test_split(\n",
    "        features_valid, target_valid, test_size=0.5,\n",
    "        random_state=12345))"
   ]
  },
  {
   "cell_type": "markdown",
   "id": "73529a7f",
   "metadata": {},
   "source": [
    "Let's look at the sizes of the resulting samples"
   ]
  },
  {
   "cell_type": "code",
   "execution_count": 21,
   "id": "5ffd9602",
   "metadata": {
    "ExecuteTime": {
     "end_time": "2023-09-05T20:47:00.099565Z",
     "start_time": "2023-09-05T20:47:00.082268Z"
    }
   },
   "outputs": [
    {
     "name": "stdout",
     "output_type": "stream",
     "text": [
      "(10000, 11)\n",
      "(6000, 11)\n",
      "(2000, 11)\n",
      "(2000, 11)\n",
      "(10000,)\n",
      "(6000,)\n",
      "(2000,)\n",
      "(2000,)\n"
     ]
    }
   ],
   "source": [
    "for i in (features, features_train, features_test, features_valid, \n",
    "          target, target_train, target_test, target_valid):\n",
    "    print(i.shape)"
   ]
  },
  {
   "cell_type": "markdown",
   "id": "c2ccbcd8",
   "metadata": {},
   "source": [
    "Everything as we wanted"
   ]
  },
  {
   "cell_type": "markdown",
   "id": "d5d2490b",
   "metadata": {},
   "source": [
    "### Using scaler"
   ]
  },
  {
   "cell_type": "code",
   "execution_count": 22,
   "id": "37359797",
   "metadata": {
    "ExecuteTime": {
     "end_time": "2023-09-05T20:47:00.114355Z",
     "start_time": "2023-09-05T20:47:00.106113Z"
    }
   },
   "outputs": [],
   "source": [
    "# Let's create a list with numeric columns\n",
    "numeric = ['balance', 'estimated_salary', 'credit_score', 'age', 'tenure',]"
   ]
  },
  {
   "cell_type": "code",
   "execution_count": 23,
   "id": "d8c0b5e0",
   "metadata": {
    "ExecuteTime": {
     "end_time": "2023-09-05T20:47:00.188588Z",
     "start_time": "2023-09-05T20:47:00.123622Z"
    }
   },
   "outputs": [],
   "source": [
    "scaler = StandardScaler()\n",
    "scaler.fit(features_train[numeric])\n",
    "features_train[numeric] = scaler.transform(features_train[numeric])\n",
    "features_test[numeric] = scaler.transform(features_test[numeric])\n",
    "features_valid[numeric] = scaler.transform(features_valid[numeric])\n"
   ]
  },
  {
   "cell_type": "code",
   "execution_count": 24,
   "id": "0d6f50e7",
   "metadata": {
    "ExecuteTime": {
     "end_time": "2023-09-05T20:47:00.280243Z",
     "start_time": "2023-09-05T20:47:00.197487Z"
    }
   },
   "outputs": [
    {
     "data": {
      "text/html": [
       "<div>\n",
       "<style scoped>\n",
       "    .dataframe tbody tr th:only-of-type {\n",
       "        vertical-align: middle;\n",
       "    }\n",
       "\n",
       "    .dataframe tbody tr th {\n",
       "        vertical-align: top;\n",
       "    }\n",
       "\n",
       "    .dataframe thead th {\n",
       "        text-align: right;\n",
       "    }\n",
       "</style>\n",
       "<table border=\"1\" class=\"dataframe\">\n",
       "  <thead>\n",
       "    <tr style=\"text-align: right;\">\n",
       "      <th></th>\n",
       "      <th>credit_score</th>\n",
       "      <th>age</th>\n",
       "      <th>tenure</th>\n",
       "      <th>balance</th>\n",
       "      <th>num_of_products</th>\n",
       "      <th>has_cr_card</th>\n",
       "      <th>is_active_member</th>\n",
       "      <th>estimated_salary</th>\n",
       "      <th>geography_Germany</th>\n",
       "      <th>geography_Spain</th>\n",
       "      <th>gender_Male</th>\n",
       "    </tr>\n",
       "  </thead>\n",
       "  <tbody>\n",
       "    <tr>\n",
       "      <th>7479</th>\n",
       "      <td>-0.886751</td>\n",
       "      <td>-0.373192</td>\n",
       "      <td>1.032538</td>\n",
       "      <td>1.232271</td>\n",
       "      <td>1</td>\n",
       "      <td>1</td>\n",
       "      <td>0</td>\n",
       "      <td>-0.187705</td>\n",
       "      <td>0</td>\n",
       "      <td>1</td>\n",
       "      <td>1</td>\n",
       "    </tr>\n",
       "    <tr>\n",
       "      <th>3411</th>\n",
       "      <td>0.608663</td>\n",
       "      <td>-0.183385</td>\n",
       "      <td>1.032538</td>\n",
       "      <td>0.600563</td>\n",
       "      <td>1</td>\n",
       "      <td>0</td>\n",
       "      <td>0</td>\n",
       "      <td>-0.333945</td>\n",
       "      <td>0</td>\n",
       "      <td>0</td>\n",
       "      <td>0</td>\n",
       "    </tr>\n",
       "    <tr>\n",
       "      <th>6027</th>\n",
       "      <td>2.052152</td>\n",
       "      <td>0.480939</td>\n",
       "      <td>-0.719791</td>\n",
       "      <td>1.027098</td>\n",
       "      <td>2</td>\n",
       "      <td>0</td>\n",
       "      <td>1</td>\n",
       "      <td>1.503095</td>\n",
       "      <td>1</td>\n",
       "      <td>0</td>\n",
       "      <td>1</td>\n",
       "    </tr>\n",
       "    <tr>\n",
       "      <th>1247</th>\n",
       "      <td>-1.457915</td>\n",
       "      <td>-1.417129</td>\n",
       "      <td>0.331606</td>\n",
       "      <td>-1.233163</td>\n",
       "      <td>2</td>\n",
       "      <td>1</td>\n",
       "      <td>0</td>\n",
       "      <td>-1.071061</td>\n",
       "      <td>0</td>\n",
       "      <td>0</td>\n",
       "      <td>1</td>\n",
       "    </tr>\n",
       "    <tr>\n",
       "      <th>3716</th>\n",
       "      <td>0.130961</td>\n",
       "      <td>-1.132419</td>\n",
       "      <td>-1.070257</td>\n",
       "      <td>1.140475</td>\n",
       "      <td>1</td>\n",
       "      <td>0</td>\n",
       "      <td>0</td>\n",
       "      <td>1.524268</td>\n",
       "      <td>1</td>\n",
       "      <td>0</td>\n",
       "      <td>0</td>\n",
       "    </tr>\n",
       "    <tr>\n",
       "      <th>...</th>\n",
       "      <td>...</td>\n",
       "      <td>...</td>\n",
       "      <td>...</td>\n",
       "      <td>...</td>\n",
       "      <td>...</td>\n",
       "      <td>...</td>\n",
       "      <td>...</td>\n",
       "      <td>...</td>\n",
       "      <td>...</td>\n",
       "      <td>...</td>\n",
       "      <td>...</td>\n",
       "    </tr>\n",
       "    <tr>\n",
       "      <th>4478</th>\n",
       "      <td>-1.073677</td>\n",
       "      <td>-0.752805</td>\n",
       "      <td>-0.369325</td>\n",
       "      <td>-1.233163</td>\n",
       "      <td>2</td>\n",
       "      <td>0</td>\n",
       "      <td>1</td>\n",
       "      <td>-1.278361</td>\n",
       "      <td>0</td>\n",
       "      <td>0</td>\n",
       "      <td>1</td>\n",
       "    </tr>\n",
       "    <tr>\n",
       "      <th>4094</th>\n",
       "      <td>-1.447531</td>\n",
       "      <td>-0.942612</td>\n",
       "      <td>1.733470</td>\n",
       "      <td>-1.233163</td>\n",
       "      <td>2</td>\n",
       "      <td>0</td>\n",
       "      <td>1</td>\n",
       "      <td>-1.281307</td>\n",
       "      <td>0</td>\n",
       "      <td>0</td>\n",
       "      <td>1</td>\n",
       "    </tr>\n",
       "    <tr>\n",
       "      <th>3492</th>\n",
       "      <td>0.027113</td>\n",
       "      <td>0.575842</td>\n",
       "      <td>0.273665</td>\n",
       "      <td>-0.310229</td>\n",
       "      <td>1</td>\n",
       "      <td>0</td>\n",
       "      <td>1</td>\n",
       "      <td>-0.903158</td>\n",
       "      <td>0</td>\n",
       "      <td>0</td>\n",
       "      <td>0</td>\n",
       "    </tr>\n",
       "    <tr>\n",
       "      <th>2177</th>\n",
       "      <td>0.151731</td>\n",
       "      <td>-1.417129</td>\n",
       "      <td>-0.369325</td>\n",
       "      <td>-1.233163</td>\n",
       "      <td>2</td>\n",
       "      <td>0</td>\n",
       "      <td>1</td>\n",
       "      <td>-1.128539</td>\n",
       "      <td>0</td>\n",
       "      <td>0</td>\n",
       "      <td>0</td>\n",
       "    </tr>\n",
       "    <tr>\n",
       "      <th>4578</th>\n",
       "      <td>0.400966</td>\n",
       "      <td>-0.088482</td>\n",
       "      <td>-1.420723</td>\n",
       "      <td>-1.233163</td>\n",
       "      <td>2</td>\n",
       "      <td>0</td>\n",
       "      <td>0</td>\n",
       "      <td>-0.949841</td>\n",
       "      <td>0</td>\n",
       "      <td>0</td>\n",
       "      <td>1</td>\n",
       "    </tr>\n",
       "  </tbody>\n",
       "</table>\n",
       "<p>6000 rows × 11 columns</p>\n",
       "</div>"
      ],
      "text/plain": [
       "      credit_score       age    tenure   balance  num_of_products  \\\n",
       "7479     -0.886751 -0.373192  1.032538  1.232271                1   \n",
       "3411      0.608663 -0.183385  1.032538  0.600563                1   \n",
       "6027      2.052152  0.480939 -0.719791  1.027098                2   \n",
       "1247     -1.457915 -1.417129  0.331606 -1.233163                2   \n",
       "3716      0.130961 -1.132419 -1.070257  1.140475                1   \n",
       "...            ...       ...       ...       ...              ...   \n",
       "4478     -1.073677 -0.752805 -0.369325 -1.233163                2   \n",
       "4094     -1.447531 -0.942612  1.733470 -1.233163                2   \n",
       "3492      0.027113  0.575842  0.273665 -0.310229                1   \n",
       "2177      0.151731 -1.417129 -0.369325 -1.233163                2   \n",
       "4578      0.400966 -0.088482 -1.420723 -1.233163                2   \n",
       "\n",
       "      has_cr_card  is_active_member  estimated_salary  geography_Germany  \\\n",
       "7479            1                 0         -0.187705                  0   \n",
       "3411            0                 0         -0.333945                  0   \n",
       "6027            0                 1          1.503095                  1   \n",
       "1247            1                 0         -1.071061                  0   \n",
       "3716            0                 0          1.524268                  1   \n",
       "...           ...               ...               ...                ...   \n",
       "4478            0                 1         -1.278361                  0   \n",
       "4094            0                 1         -1.281307                  0   \n",
       "3492            0                 1         -0.903158                  0   \n",
       "2177            0                 1         -1.128539                  0   \n",
       "4578            0                 0         -0.949841                  0   \n",
       "\n",
       "      geography_Spain  gender_Male  \n",
       "7479                1            1  \n",
       "3411                0            0  \n",
       "6027                0            1  \n",
       "1247                0            1  \n",
       "3716                0            0  \n",
       "...               ...          ...  \n",
       "4478                0            1  \n",
       "4094                0            1  \n",
       "3492                0            0  \n",
       "2177                0            0  \n",
       "4578                0            1  \n",
       "\n",
       "[6000 rows x 11 columns]"
      ]
     },
     "execution_count": 24,
     "metadata": {},
     "output_type": "execute_result"
    }
   ],
   "source": [
    "features_train"
   ]
  },
  {
   "cell_type": "markdown",
   "id": "7d58b0d7",
   "metadata": {},
   "source": [
    "## Problem research"
   ]
  },
  {
   "cell_type": "markdown",
   "id": "3609ac7e",
   "metadata": {},
   "source": [
    "We need to find out if the client leaves the bank or not, so we need to solve the classification problem, so only these models are suitable: decision tree, random forest and logistic regression"
   ]
  },
  {
   "cell_type": "markdown",
   "id": "97151074",
   "metadata": {},
   "source": [
    "### Using a decision tree"
   ]
  },
  {
   "cell_type": "code",
   "execution_count": 25,
   "id": "a530e33e",
   "metadata": {
    "ExecuteTime": {
     "end_time": "2023-09-05T20:47:05.437828Z",
     "start_time": "2023-09-05T20:47:00.286938Z"
    }
   },
   "outputs": [
    {
     "name": "stdout",
     "output_type": "stream",
     "text": [
      "F1 max: 0.5696969696969697  depth best: 6\n",
      "Roc_auc max: 0.7078133789824521  depth best: 6\n",
      "CPU times: user 3.13 s, sys: 45.3 ms, total: 3.18 s\n",
      "Wall time: 5.13 s\n"
     ]
    }
   ],
   "source": [
    "%%time\n",
    "f1_max = 0\n",
    "roc_auc_max = 0\n",
    "depth_best = 0\n",
    "for depth in range(1, 50):\n",
    "    model_decision = DecisionTreeClassifier(random_state=12345, max_depth=depth, criterion='gini')\n",
    "    model_decision.fit(features_train, target_train) # train the model on the training set\n",
    "    predictions_valid = model_decision.predict(features_valid) # get the predictions of the model on the validation выборке\n",
    "    if f1_max < f1_score(target_valid, predictions_valid):\n",
    "            f1_max = f1_score(target_valid, predictions_valid)\n",
    "            depth_f1 = depth\n",
    "            roc_auc_max = roc_auc_score(target_valid, predictions_valid)\n",
    "            depth_roc_auc = depth\n",
    "print(\"F1 max:\", f1_max, ' depth best:', depth_f1)\n",
    "print('Roc_auc max:', roc_auc_max, ' depth best:', depth_roc_auc)\n"
   ]
  },
  {
   "cell_type": "markdown",
   "id": "734f1902",
   "metadata": {},
   "source": [
    "F1 = 0.569 depth best: 6, a little short of the required 0.59"
   ]
  },
  {
   "cell_type": "markdown",
   "id": "f0cc2f3f",
   "metadata": {},
   "source": [
    "### Let's try random forest"
   ]
  },
  {
   "cell_type": "markdown",
   "id": "9c513d01",
   "metadata": {},
   "source": [
    "In the case of using RandomForestClassifier, when iterating over hyperparameters, we will iterate over n_estimators and max_depth"
   ]
  },
  {
   "cell_type": "code",
   "execution_count": 26,
   "id": "aa522293",
   "metadata": {
    "ExecuteTime": {
     "end_time": "2023-09-05T20:52:37.238937Z",
     "start_time": "2023-09-05T20:47:05.454435Z"
    },
    "scrolled": true
   },
   "outputs": [
    {
     "name": "stdout",
     "output_type": "stream",
     "text": [
      "F1 max: 0.6026986506746627  depth best: 15  n_estimators best: 32\n",
      "Roc_auc max: 0.7259359178315862  depth best: 15  n_estimators best: 22\n",
      "CPU times: user 4min 28s, sys: 3.31 s, total: 4min 32s\n",
      "Wall time: 5min 31s\n"
     ]
    }
   ],
   "source": [
    "%%time\n",
    "f1_max = 0\n",
    "roc_auc_max = 0\n",
    "depth_best = 0\n",
    "n_est_best = 0\n",
    "for depth in range(1, 20):\n",
    "    for n_est in range(2, 120, 5):\n",
    "        model_random_forest = RandomForestClassifier(n_estimators=n_est, max_depth=depth, random_state=12345)\n",
    "        model_random_forest.fit(features_train, target_train)\n",
    "        predicted_valid = model_random_forest.predict(features_valid)\n",
    "        if f1_max < f1_score(target_valid, predicted_valid):\n",
    "            f1_max = f1_score(target_valid, predicted_valid)\n",
    "            depth_f1 = depth\n",
    "            n_est_f1 = n_est\n",
    "        if roc_auc_max < roc_auc_score(target_valid, predicted_valid):\n",
    "            roc_auc_max = roc_auc_score(target_valid, predicted_valid)\n",
    "            depth_roc_auc = depth\n",
    "            n_est_roc_auc = n_est\n",
    "print(\"F1 max:\", f1_max, ' depth best:', depth_f1, ' n_estimators best:', n_est_f1)\n",
    "print('Roc_auc max:', roc_auc_max, ' depth best:', depth_roc_auc, ' n_estimators best:', n_est_roc_auc)"
   ]
  },
  {
   "cell_type": "markdown",
   "id": "870ad6c9",
   "metadata": {},
   "source": [
    "F1 max: 0.605 depth best: 9 n_estimators best: 7 - slightly better than previous test"
   ]
  },
  {
   "cell_type": "markdown",
   "id": "e5a87822",
   "metadata": {},
   "source": [
    "### And let's see the logistic regression"
   ]
  },
  {
   "cell_type": "code",
   "execution_count": 27,
   "id": "d5a74680",
   "metadata": {
    "ExecuteTime": {
     "end_time": "2023-09-05T20:52:37.359849Z",
     "start_time": "2023-09-05T20:52:37.246843Z"
    }
   },
   "outputs": [
    {
     "data": {
      "text/plain": [
       "0.33389544688026984"
      ]
     },
     "execution_count": 27,
     "metadata": {},
     "output_type": "execute_result"
    }
   ],
   "source": [
    "model = LogisticRegression(random_state=12345, solver='lbfgs', max_iter=1000)\n",
    "model.fit(features_train, target_train)\n",
    "predicted_valid = model.predict(features_valid)\n",
    "f1_score(target_valid, predicted_valid)"
   ]
  },
  {
   "cell_type": "markdown",
   "id": "af89b52d",
   "metadata": {},
   "source": [
    "F1 = 0.335. Let's try to get rid of the imbalance, and calculate f1 after that"
   ]
  },
  {
   "cell_type": "markdown",
   "id": "4b14872b",
   "metadata": {},
   "source": [
    "## Fighting imbalance"
   ]
  },
  {
   "cell_type": "markdown",
   "id": "67e64604",
   "metadata": {},
   "source": [
    "### Upsampling"
   ]
  },
  {
   "cell_type": "code",
   "execution_count": 28,
   "id": "ff9ca017",
   "metadata": {
    "ExecuteTime": {
     "end_time": "2023-09-05T20:52:37.416301Z",
     "start_time": "2023-09-05T20:52:37.377275Z"
    }
   },
   "outputs": [],
   "source": [
    "def upsample(features, target, repeat):\n",
    "    features_zeros = features[target == 0]\n",
    "    features_ones = features[target == 1]\n",
    "    target_zeros = target[target == 0]\n",
    "    target_ones = target[target == 1]\n",
    "\n",
    "    features_upsampled = pd.concat([features_zeros] + [features_ones] * repeat)\n",
    "    target_upsampled = pd.concat([target_zeros] + [target_ones] * repeat)\n",
    "    \n",
    "    features_upsampled, target_upsampled = shuffle(\n",
    "        features_upsampled, target_upsampled, random_state=12345)\n",
    "    \n",
    "    return features_upsampled, target_upsampled\n",
    "\n",
    "features_train_upsampled, target_train_upsampled = upsample(features_train, target_train, 4) #так как дисбаланс был в соотношении 4к1\n"
   ]
  },
  {
   "cell_type": "markdown",
   "id": "8c132680",
   "metadata": {},
   "source": [
    "### Check the decision tree after correcting the imbalance"
   ]
  },
  {
   "cell_type": "code",
   "execution_count": 29,
   "id": "cb692b9f",
   "metadata": {
    "ExecuteTime": {
     "end_time": "2023-09-05T20:52:40.010280Z",
     "start_time": "2023-09-05T20:52:37.424180Z"
    }
   },
   "outputs": [
    {
     "name": "stdout",
     "output_type": "stream",
     "text": [
      "F1 max: 0.5963791267305644  depth best: 5\n",
      "Roc_auc max: 0.7587588238496482  depth best: 5\n",
      "CPU times: user 2.56 s, sys: 22.2 ms, total: 2.59 s\n",
      "Wall time: 2.57 s\n"
     ]
    }
   ],
   "source": [
    "%%time\n",
    "f1_max = 0\n",
    "roc_auc_max = 0\n",
    "depth_best = 0\n",
    "for depth in range(1, 50):\n",
    "    model_decision = DecisionTreeClassifier(random_state=12345, max_depth=depth, criterion='gini')\n",
    "    model_decision.fit(features_train_upsampled, target_train_upsampled) # train the model on the training set\n",
    "    predictions_valid = model_decision.predict(features_valid) # get the predictions of the model on the validation выборке\n",
    "    if f1_max < f1_score(target_valid, predictions_valid):\n",
    "            f1_max = f1_score(target_valid, predictions_valid)\n",
    "            depth_f1 = depth\n",
    "    if roc_auc_max < roc_auc_score(target_valid, predictions_valid):\n",
    "            roc_auc_max = roc_auc_score(target_valid, predictions_valid)\n",
    "            depth_roc_auc = depth\n",
    "print(\"F1 max:\", f1_max, ' depth best:', depth_f1)\n",
    "print('Roc_auc max:', roc_auc_max, ' depth best:', depth_roc_auc)\n"
   ]
  },
  {
   "cell_type": "markdown",
   "id": "2cb4072a",
   "metadata": {},
   "source": [
    "F1 = 0.595, depth is the best: 5, we have already achieved the desired result"
   ]
  },
  {
   "cell_type": "markdown",
   "id": "f8af3286",
   "metadata": {},
   "source": [
    "### Now random forest"
   ]
  },
  {
   "cell_type": "code",
   "execution_count": 30,
   "id": "82528b19",
   "metadata": {
    "ExecuteTime": {
     "end_time": "2023-09-05T20:53:59.563869Z",
     "start_time": "2023-09-05T20:52:40.014208Z"
    }
   },
   "outputs": [
    {
     "name": "stdout",
     "output_type": "stream",
     "text": [
      "F1 max: 0.6338912133891214  depth best: 9  n_estimators best: 37\n",
      "Roc_auc max: 0.7881671193268771  depth best: 9  n_estimators best: 37\n",
      "CPU times: user 1min 18s, sys: 612 ms, total: 1min 18s\n",
      "Wall time: 1min 19s\n"
     ]
    }
   ],
   "source": [
    "%%time\n",
    "f1_max = 0\n",
    "roc_auc_max = 0\n",
    "depth_best = 0\n",
    "n_est_best = 0\n",
    "for depth in range(1, 20):\n",
    "    for n_est in range(2, 60, 5):\n",
    "        model_random_forest = RandomForestClassifier(n_estimators=n_est, max_depth=depth, random_state=12345)\n",
    "        model_random_forest.fit(features_train_upsampled, target_train_upsampled)\n",
    "        predicted_valid = model_random_forest.predict(features_valid)\n",
    "        if f1_max < f1_score(target_valid, predicted_valid):\n",
    "            f1_max = f1_score(target_valid, predicted_valid)\n",
    "            depth_f1 = depth\n",
    "            n_est_f1 = n_est\n",
    "        if roc_auc_max < roc_auc_score(target_valid, predicted_valid):\n",
    "            roc_auc_max = roc_auc_score(target_valid, predicted_valid)\n",
    "            depth_roc_auc = depth\n",
    "            n_est_roc_auc = n_est\n",
    "print(\"F1 max:\", f1_max, ' depth best:', depth_f1, ' n_estimators best:', n_est_f1)\n",
    "print('Roc_auc max:', roc_auc_max, ' depth best:', depth_roc_auc, ' n_estimators best:', n_est_roc_auc)"
   ]
  },
  {
   "cell_type": "markdown",
   "id": "d088fdd2",
   "metadata": {},
   "source": [
    "F1 max: 0.631 depth best: 9 n_estimators best: 32\n",
    "\n",
    "Remember these settings"
   ]
  },
  {
   "cell_type": "markdown",
   "id": "edcaeb1a",
   "metadata": {},
   "source": [
    "As you can see, after upsampling with a random forest, we managed to achieve the required value of f1. Now let's try downsample"
   ]
  },
  {
   "cell_type": "markdown",
   "id": "598800d4",
   "metadata": {},
   "source": [
    "### Downsampling"
   ]
  },
  {
   "cell_type": "code",
   "execution_count": 31,
   "id": "e059566a",
   "metadata": {
    "ExecuteTime": {
     "end_time": "2023-09-05T20:53:59.592461Z",
     "start_time": "2023-09-05T20:53:59.568107Z"
    }
   },
   "outputs": [],
   "source": [
    "def downsample(features, target, fraction):\n",
    "    features_zeros = features[target == 0]\n",
    "    features_ones = features[target == 1]\n",
    "    target_zeros = target[target == 0]\n",
    "    target_ones = target[target == 1]\n",
    "\n",
    "    features_downsampled = pd.concat(\n",
    "        [features_zeros.sample(frac=fraction, random_state=12345)] + [features_ones])\n",
    "    target_downsampled = pd.concat(\n",
    "        [target_zeros.sample(frac=fraction, random_state=12345)] + [target_ones])\n",
    "    \n",
    "    features_downsampled, target_downsampled = shuffle(\n",
    "        features_downsampled, target_downsampled, random_state=12345)\n",
    "    \n",
    "    return features_downsampled, target_downsampled\n",
    "\n",
    "features_train_downsampled, target_train_downsampled = downsample(features_train, target_train, 0.25)"
   ]
  },
  {
   "cell_type": "markdown",
   "id": "7100ac6c",
   "metadata": {},
   "source": [
    "### Let's check f1 in the decision tree"
   ]
  },
  {
   "cell_type": "code",
   "execution_count": 32,
   "id": "82273f34",
   "metadata": {
    "ExecuteTime": {
     "end_time": "2023-09-05T20:54:00.769953Z",
     "start_time": "2023-09-05T20:53:59.596991Z"
    }
   },
   "outputs": [
    {
     "name": "stdout",
     "output_type": "stream",
     "text": [
      "F1 max: 0.5943204868154158  depth best: 5\n",
      "Roc_auc max: 0.7635631718072333  depth best: 5\n",
      "CPU times: user 1.14 s, sys: 10.1 ms, total: 1.15 s\n",
      "Wall time: 1.16 s\n"
     ]
    }
   ],
   "source": [
    "%%time\n",
    "f1_max = 0\n",
    "roc_auc_max = 0\n",
    "depth_best = 0\n",
    "for depth in range(1, 50):\n",
    "    model_decision = DecisionTreeClassifier(random_state=12345, max_depth=depth, criterion='gini')\n",
    "    model_decision.fit(features_train_downsampled, target_train_downsampled) # train the model on the training выборке\n",
    "    predictions_valid = model_decision.predict(features_valid) #get the predictions of the model on the validation выборке\n",
    "    if f1_max < f1_score(target_valid, predictions_valid):\n",
    "            f1_max = f1_score(target_valid, predictions_valid)\n",
    "            depth_f1 = depth\n",
    "    if roc_auc_max < roc_auc_score(target_valid, predictions_valid):\n",
    "            roc_auc_max = roc_auc_score(target_valid, predictions_valid)\n",
    "            depth_roc_auc = depth\n",
    "print(\"F1 max:\", f1_max, ' depth best:', depth_f1)\n",
    "print('Roc_auc max:', roc_auc_max, ' depth best:', depth_roc_auc)\n"
   ]
  },
  {
   "cell_type": "markdown",
   "id": "aa2cfc7f",
   "metadata": {},
   "source": [
    "Got F1 max: 0.593 at depth = 5"
   ]
  },
  {
   "cell_type": "markdown",
   "id": "c33c5726",
   "metadata": {},
   "source": [
    "### Now let's check the random forest"
   ]
  },
  {
   "cell_type": "code",
   "execution_count": 33,
   "id": "e88d1772",
   "metadata": {
    "ExecuteTime": {
     "end_time": "2023-09-05T20:54:37.496661Z",
     "start_time": "2023-09-05T20:54:00.774082Z"
    }
   },
   "outputs": [
    {
     "name": "stdout",
     "output_type": "stream",
     "text": [
      "F1 max: 0.6061776061776061  depth best: 8  n_estimators best: 22\n",
      "Roc_auc max: 0.7795610304925628  depth best: 5  n_estimators best: 22\n",
      "CPU times: user 36.2 s, sys: 334 ms, total: 36.5 s\n",
      "Wall time: 36.7 s\n"
     ]
    }
   ],
   "source": [
    "%%time\n",
    "f1_max = 0\n",
    "roc_auc_max = 0\n",
    "depth_best = 0\n",
    "n_est_best = 0\n",
    "for depth in range(1, 20):\n",
    "    for n_est in range(2, 60, 5):\n",
    "        model_random_forest = RandomForestClassifier(n_estimators=n_est, max_depth=depth, random_state=12345)\n",
    "        model_random_forest.fit(features_train_downsampled, target_train_downsampled)\n",
    "        predicted_valid = model_random_forest.predict(features_valid)\n",
    "        if f1_max < f1_score(target_valid, predicted_valid):\n",
    "            f1_max = f1_score(target_valid, predicted_valid)\n",
    "            depth_f1 = depth\n",
    "            n_est_f1 = n_est\n",
    "        if roc_auc_max < roc_auc_score(target_valid, predicted_valid):\n",
    "            roc_auc_max = roc_auc_score(target_valid, predicted_valid)\n",
    "            depth_roc_auc = depth\n",
    "            n_est_roc_auc = n_est\n",
    "print(\"F1 max:\", f1_max, ' depth best:', depth_f1, ' n_estimators best:', n_est_f1)\n",
    "print('Roc_auc max:', roc_auc_max, ' depth best:', depth_roc_auc, ' n_estimators best:', n_est_roc_auc)"
   ]
  },
  {
   "cell_type": "markdown",
   "id": "9c12569d",
   "metadata": {},
   "source": [
    "Got F1 max: 0.604 at depth = 8, n_estimators = 12"
   ]
  },
  {
   "cell_type": "markdown",
   "id": "996ec071",
   "metadata": {},
   "source": [
    "### And check the logistic regression"
   ]
  },
  {
   "cell_type": "code",
   "execution_count": 34,
   "id": "3b7bfe00",
   "metadata": {
    "ExecuteTime": {
     "end_time": "2023-09-05T20:54:37.548525Z",
     "start_time": "2023-09-05T20:54:37.501058Z"
    }
   },
   "outputs": [
    {
     "data": {
      "text/plain": [
       "0.47965367965367967"
      ]
     },
     "execution_count": 34,
     "metadata": {},
     "output_type": "execute_result"
    }
   ],
   "source": [
    "model = LogisticRegression(random_state=12345, solver='lbfgs', max_iter=1000)\n",
    "model.fit(features_train_downsampled, target_train_downsampled)\n",
    "predicted_valid = model.predict(features_valid)\n",
    "f1_score(target_valid, predicted_valid)"
   ]
  },
  {
   "cell_type": "markdown",
   "id": "89ad9f4d",
   "metadata": {},
   "source": [
    "Before dealing with the imbalance, we had the following maximum performance with these hyperparameters:\n",
    "\n",
    "Decision tree - F1 max: 0.569 at depth = 6\n",
    "Random forest - F1 max: 0.601 at depth = 9, n_estimators = 7\n",
    "Logistic regression - F1 = 0.335\n",
    "\n",
    "To combat the imbalance, we used the upsampling and downsampling methods.\n",
    "\n",
    "After using the upsampling method, we got the following results:\n",
    "\n",
    "Decision tree - F1 max: 0.596 at depth = 5\n",
    "Random forest - F1 max: 0.63 at depth = 9, n_estimators = 47\n",
    "Logistic regression - F1 = 0.49\n",
    "\n",
    "After using the downsampling method, we got the following results:\n",
    "\n",
    "Decision tree - F1 max: 0.597 at depth = 5\n",
    "Random forest - F1 max: 0.605 at depth = 5, n_estimators = 37\n",
    "Logistic regression - F1 = 0.485\n",
    "\n",
    "As you can see, the best model is Random Forest after upsampling method: F1 maximum: 0.604 at depth = 8, n_estimators = 12"
   ]
  },
  {
   "cell_type": "markdown",
   "id": "911d8cd1",
   "metadata": {},
   "source": [
    "## Model testing"
   ]
  },
  {
   "cell_type": "markdown",
   "id": "e6707afa",
   "metadata": {},
   "source": [
    "As we remember, we use the following data: n_estimators=42, max_depth=13 - this is our best model"
   ]
  },
  {
   "cell_type": "code",
   "execution_count": 35,
   "id": "c2e8d972",
   "metadata": {
    "ExecuteTime": {
     "end_time": "2023-09-05T20:54:38.262162Z",
     "start_time": "2023-09-05T20:54:37.555210Z"
    }
   },
   "outputs": [
    {
     "name": "stdout",
     "output_type": "stream",
     "text": [
      "F1: 0.6055488540410132\n",
      "Roc_auc: 0.7475463631307612\n"
     ]
    }
   ],
   "source": [
    "model_random_forest = RandomForestClassifier(n_estimators=42, max_depth=13, random_state=12345)\n",
    "model_random_forest.fit(features_train_upsampled, target_train_upsampled)\n",
    "predicted_test = model_random_forest.predict(features_test)\n",
    "f1 = f1_score(target_test, predicted_test)\n",
    "roc_auc = roc_auc_score(target_test, predicted_test)\n",
    "\n",
    "print(\"F1:\", f1)\n",
    "print('Roc_auc:', roc_auc)"
   ]
  },
  {
   "cell_type": "markdown",
   "id": "9b44398d",
   "metadata": {},
   "source": [
    "F1 = 0.601 after upsampling, with n_estimators=42, max_depth=13"
   ]
  },
  {
   "cell_type": "markdown",
   "id": "2a6c6093",
   "metadata": {},
   "source": [
    "### Conclusion.\n",
    "We carried out a primary analysis of the data, revealed a clear imbalance of classes, negative to positive - 4 to 1.\n",
    "\n",
    "We pre-processed the data, filled in the gaps, made one_hot_encoding.\n",
    "\n",
    "Before dealing with the imbalance, we had the following maximum performance with these hyperparameters:\n",
    "\n",
    "**Decision tree** - F1 max: 0.569 at depth = 6\n",
    "\n",
    "**Random forest** - F1 max: 0.605 at depth = 19, n_estimators = 47\n",
    "\n",
    "**Logistic regression** - F1 = 0.335\n",
    "\n",
    "To combat the imbalance, we used the upsampling and downsampling methods.\n",
    "\n",
    "After using the upsampling method, we got the following results:\n",
    "\n",
    "**Decision tree** - F1 max: 0.596 at depth = 5\n",
    "\n",
    "**Random forest** - F1 max: 0.63 at depth = 9, n_estimators = 47\n",
    "\n",
    "**Logistic regression** - F1 = 0.49\n",
    "\n",
    "After using the downsampling method, we got the following results:\n",
    "\n",
    "**Decision tree** - F1 max: 0.597 at depth = 5\n",
    "\n",
    "**Random forest** - F1 max: 0.605 at depth = 5, n_estimators = 37\n",
    "\n",
    "**Logistic regression** - F1 = 0.485\n",
    "\n",
    "\n",
    "On testing, the models got f1 = 0.875 with n_estimators=47, max_depth=9"
   ]
  }
 ],
 "metadata": {
  "ExecuteTimeLog": [
   {
    "duration": 2760,
    "start_time": "2023-03-31T11:27:54.984Z"
   },
   {
    "duration": 39,
    "start_time": "2023-03-31T11:27:57.746Z"
   },
   {
    "duration": 19,
    "start_time": "2023-03-31T11:27:57.786Z"
   },
   {
    "duration": 8,
    "start_time": "2023-03-31T11:27:57.807Z"
   },
   {
    "duration": 53,
    "start_time": "2023-03-31T11:27:57.817Z"
   },
   {
    "duration": 12,
    "start_time": "2023-03-31T11:27:57.872Z"
   },
   {
    "duration": 22,
    "start_time": "2023-03-31T11:27:57.886Z"
   },
   {
    "duration": 5,
    "start_time": "2023-03-31T11:27:57.910Z"
   },
   {
    "duration": 26,
    "start_time": "2023-03-31T11:27:57.916Z"
   },
   {
    "duration": 9,
    "start_time": "2023-03-31T11:27:57.944Z"
   },
   {
    "duration": 6,
    "start_time": "2023-03-31T11:27:57.954Z"
   },
   {
    "duration": 6,
    "start_time": "2023-03-31T11:27:57.961Z"
   },
   {
    "duration": 15,
    "start_time": "2023-03-31T11:27:57.969Z"
   },
   {
    "duration": 24,
    "start_time": "2023-03-31T11:27:57.988Z"
   },
   {
    "duration": 7,
    "start_time": "2023-03-31T11:27:58.041Z"
   },
   {
    "duration": 2,
    "start_time": "2023-03-31T11:27:58.050Z"
   },
   {
    "duration": 16,
    "start_time": "2023-03-31T11:27:58.054Z"
   },
   {
    "duration": 18,
    "start_time": "2023-03-31T11:27:58.072Z"
   },
   {
    "duration": 19,
    "start_time": "2023-03-31T11:27:58.092Z"
   },
   {
    "duration": 24,
    "start_time": "2023-03-31T11:27:58.112Z"
   },
   {
    "duration": 15,
    "start_time": "2023-03-31T11:27:58.138Z"
   },
   {
    "duration": 35,
    "start_time": "2023-03-31T11:27:58.155Z"
   },
   {
    "duration": 26,
    "start_time": "2023-03-31T11:27:58.191Z"
   },
   {
    "duration": 1532,
    "start_time": "2023-03-31T11:27:58.219Z"
   },
   {
    "duration": 39085,
    "start_time": "2023-03-31T11:27:59.753Z"
   },
   {
    "duration": 6800,
    "start_time": "2023-03-31T11:28:38.841Z"
   },
   {
    "duration": 102,
    "start_time": "2023-03-31T11:28:45.644Z"
   },
   {
    "duration": 1839,
    "start_time": "2023-03-31T11:28:45.748Z"
   },
   {
    "duration": 51780,
    "start_time": "2023-03-31T11:28:47.589Z"
   },
   {
    "duration": 6971,
    "start_time": "2023-03-31T11:29:39.371Z"
   },
   {
    "duration": 97,
    "start_time": "2023-03-31T11:29:46.344Z"
   },
   {
    "duration": 813,
    "start_time": "2023-03-31T11:29:46.445Z"
   },
   {
    "duration": 23863,
    "start_time": "2023-03-31T11:29:47.260Z"
   },
   {
    "duration": 2417,
    "start_time": "2023-03-31T11:30:11.125Z"
   },
   {
    "duration": 610,
    "start_time": "2023-03-31T11:30:13.544Z"
   },
   {
    "duration": 17,
    "start_time": "2023-03-31T11:32:29.157Z"
   },
   {
    "duration": 11,
    "start_time": "2023-03-31T11:32:42.448Z"
   },
   {
    "duration": 51,
    "start_time": "2023-03-31T18:05:10.430Z"
   },
   {
    "duration": 1609,
    "start_time": "2023-03-31T18:05:23.155Z"
   },
   {
    "duration": 77,
    "start_time": "2023-03-31T18:05:25.215Z"
   },
   {
    "duration": 17,
    "start_time": "2023-03-31T18:05:27.206Z"
   },
   {
    "duration": 5,
    "start_time": "2023-03-31T18:05:31.239Z"
   },
   {
    "duration": 55,
    "start_time": "2023-03-31T18:05:34.588Z"
   },
   {
    "duration": 50,
    "start_time": "2023-03-31T18:10:06.597Z"
   },
   {
    "duration": 8,
    "start_time": "2023-03-31T18:12:32.222Z"
   },
   {
    "duration": 7,
    "start_time": "2023-03-31T18:13:40.672Z"
   },
   {
    "duration": 6794,
    "start_time": "2023-03-31T19:53:52.236Z"
   },
   {
    "duration": 2,
    "start_time": "2023-03-31T20:04:53.409Z"
   },
   {
    "duration": 71,
    "start_time": "2023-03-31T20:09:19.735Z"
   },
   {
    "duration": 2151,
    "start_time": "2023-03-31T20:09:28.587Z"
   },
   {
    "duration": 1255,
    "start_time": "2023-03-31T20:09:30.740Z"
   },
   {
    "duration": 37,
    "start_time": "2023-03-31T20:09:31.997Z"
   },
   {
    "duration": 16,
    "start_time": "2023-03-31T20:09:32.037Z"
   },
   {
    "duration": 25,
    "start_time": "2023-03-31T20:09:32.055Z"
   },
   {
    "duration": 72,
    "start_time": "2023-03-31T20:09:32.082Z"
   },
   {
    "duration": 12,
    "start_time": "2023-03-31T20:09:32.156Z"
   },
   {
    "duration": 32,
    "start_time": "2023-03-31T20:09:32.170Z"
   },
   {
    "duration": 23,
    "start_time": "2023-03-31T20:09:32.204Z"
   },
   {
    "duration": 30,
    "start_time": "2023-03-31T20:09:32.229Z"
   },
   {
    "duration": 9,
    "start_time": "2023-03-31T20:09:32.261Z"
   },
   {
    "duration": 23,
    "start_time": "2023-03-31T20:09:32.271Z"
   },
   {
    "duration": 28,
    "start_time": "2023-03-31T20:09:32.296Z"
   },
   {
    "duration": 31,
    "start_time": "2023-03-31T20:09:32.327Z"
   },
   {
    "duration": 25,
    "start_time": "2023-03-31T20:09:32.359Z"
   },
   {
    "duration": 6,
    "start_time": "2023-03-31T20:09:32.386Z"
   },
   {
    "duration": 8,
    "start_time": "2023-03-31T20:09:32.393Z"
   },
   {
    "duration": 7,
    "start_time": "2023-03-31T20:09:32.402Z"
   },
   {
    "duration": 17,
    "start_time": "2023-03-31T20:09:32.411Z"
   },
   {
    "duration": 7,
    "start_time": "2023-03-31T20:09:32.430Z"
   },
   {
    "duration": 135,
    "start_time": "2023-03-31T20:09:32.439Z"
   },
   {
    "duration": 0,
    "start_time": "2023-03-31T20:09:32.576Z"
   },
   {
    "duration": 0,
    "start_time": "2023-03-31T20:09:32.577Z"
   },
   {
    "duration": 0,
    "start_time": "2023-03-31T20:09:32.578Z"
   },
   {
    "duration": 0,
    "start_time": "2023-03-31T20:09:32.579Z"
   },
   {
    "duration": 0,
    "start_time": "2023-03-31T20:09:32.580Z"
   },
   {
    "duration": 0,
    "start_time": "2023-03-31T20:09:32.581Z"
   },
   {
    "duration": 0,
    "start_time": "2023-03-31T20:09:32.582Z"
   },
   {
    "duration": 0,
    "start_time": "2023-03-31T20:09:32.584Z"
   },
   {
    "duration": 0,
    "start_time": "2023-03-31T20:09:32.585Z"
   },
   {
    "duration": 0,
    "start_time": "2023-03-31T20:09:32.586Z"
   },
   {
    "duration": 0,
    "start_time": "2023-03-31T20:09:32.587Z"
   },
   {
    "duration": 0,
    "start_time": "2023-03-31T20:09:32.588Z"
   },
   {
    "duration": 0,
    "start_time": "2023-03-31T20:09:32.589Z"
   },
   {
    "duration": 0,
    "start_time": "2023-03-31T20:09:32.590Z"
   },
   {
    "duration": 0,
    "start_time": "2023-03-31T20:09:32.591Z"
   },
   {
    "duration": 0,
    "start_time": "2023-03-31T20:09:32.592Z"
   },
   {
    "duration": 0,
    "start_time": "2023-03-31T20:09:32.593Z"
   },
   {
    "duration": 1432,
    "start_time": "2023-03-31T20:14:47.223Z"
   },
   {
    "duration": 154495,
    "start_time": "2023-03-31T20:17:12.002Z"
   },
   {
    "duration": 3836,
    "start_time": "2023-03-31T20:19:46.499Z"
   },
   {
    "duration": 111,
    "start_time": "2023-03-31T20:22:12.819Z"
   },
   {
    "duration": 2219,
    "start_time": "2023-03-31T20:22:21.989Z"
   },
   {
    "duration": 2106,
    "start_time": "2023-03-31T20:22:24.211Z"
   },
   {
    "duration": 1220,
    "start_time": "2023-03-31T20:22:26.320Z"
   },
   {
    "duration": 39,
    "start_time": "2023-03-31T20:22:27.543Z"
   },
   {
    "duration": 19,
    "start_time": "2023-03-31T20:22:27.584Z"
   },
   {
    "duration": 3,
    "start_time": "2023-03-31T20:22:27.605Z"
   },
   {
    "duration": 73,
    "start_time": "2023-03-31T20:22:27.610Z"
   },
   {
    "duration": 14,
    "start_time": "2023-03-31T20:22:27.685Z"
   },
   {
    "duration": 21,
    "start_time": "2023-03-31T20:22:27.701Z"
   },
   {
    "duration": 7,
    "start_time": "2023-03-31T20:22:27.725Z"
   },
   {
    "duration": 31,
    "start_time": "2023-03-31T20:22:27.734Z"
   },
   {
    "duration": 14,
    "start_time": "2023-03-31T20:22:27.766Z"
   },
   {
    "duration": 15,
    "start_time": "2023-03-31T20:22:27.782Z"
   },
   {
    "duration": 10,
    "start_time": "2023-03-31T20:22:27.800Z"
   },
   {
    "duration": 30,
    "start_time": "2023-03-31T20:22:27.812Z"
   },
   {
    "duration": 32,
    "start_time": "2023-03-31T20:22:27.844Z"
   },
   {
    "duration": 6,
    "start_time": "2023-03-31T20:22:27.878Z"
   },
   {
    "duration": 13,
    "start_time": "2023-03-31T20:22:27.886Z"
   },
   {
    "duration": 7,
    "start_time": "2023-03-31T20:22:27.901Z"
   },
   {
    "duration": 17,
    "start_time": "2023-03-31T20:22:27.909Z"
   },
   {
    "duration": 4,
    "start_time": "2023-03-31T20:22:27.928Z"
   },
   {
    "duration": 3,
    "start_time": "2023-03-31T20:22:27.934Z"
   },
   {
    "duration": 28,
    "start_time": "2023-03-31T20:22:27.962Z"
   },
   {
    "duration": 19,
    "start_time": "2023-03-31T20:22:27.993Z"
   },
   {
    "duration": 1515,
    "start_time": "2023-03-31T20:22:28.013Z"
   },
   {
    "duration": 152185,
    "start_time": "2023-03-31T20:22:29.529Z"
   },
   {
    "duration": 153,
    "start_time": "2023-03-31T20:25:01.716Z"
   },
   {
    "duration": 198,
    "start_time": "2023-03-31T20:25:01.873Z"
   },
   {
    "duration": 1707,
    "start_time": "2023-03-31T20:25:02.073Z"
   },
   {
    "duration": 51910,
    "start_time": "2023-03-31T20:25:03.782Z"
   },
   {
    "duration": 172,
    "start_time": "2023-03-31T20:25:55.694Z"
   },
   {
    "duration": 96,
    "start_time": "2023-03-31T20:25:55.868Z"
   },
   {
    "duration": 727,
    "start_time": "2023-03-31T20:25:55.966Z"
   },
   {
    "duration": 22406,
    "start_time": "2023-03-31T20:25:56.695Z"
   },
   {
    "duration": 159,
    "start_time": "2023-03-31T20:26:19.103Z"
   },
   {
    "duration": 101,
    "start_time": "2023-03-31T20:26:19.264Z"
   },
   {
    "duration": 22643,
    "start_time": "2023-03-31T20:26:19.367Z"
   },
   {
    "duration": 51640,
    "start_time": "2023-03-31T20:26:42.012Z"
   },
   {
    "duration": 219,
    "start_time": "2023-03-31T20:44:47.422Z"
   },
   {
    "duration": 395,
    "start_time": "2023-03-31T20:45:27.763Z"
   },
   {
    "duration": 398,
    "start_time": "2023-03-31T20:50:52.822Z"
   },
   {
    "duration": 110,
    "start_time": "2023-03-31T20:52:18.972Z"
   },
   {
    "duration": 232,
    "start_time": "2023-03-31T20:53:36.520Z"
   },
   {
    "duration": 209,
    "start_time": "2023-03-31T20:56:11.987Z"
   },
   {
    "duration": 2146,
    "start_time": "2023-03-31T21:01:49.281Z"
   },
   {
    "duration": 2172,
    "start_time": "2023-03-31T21:01:51.429Z"
   },
   {
    "duration": 1211,
    "start_time": "2023-03-31T21:01:53.603Z"
   },
   {
    "duration": 40,
    "start_time": "2023-03-31T21:01:54.816Z"
   },
   {
    "duration": 19,
    "start_time": "2023-03-31T21:01:54.859Z"
   },
   {
    "duration": 6,
    "start_time": "2023-03-31T21:01:54.880Z"
   },
   {
    "duration": 49,
    "start_time": "2023-03-31T21:01:54.888Z"
   },
   {
    "duration": 37,
    "start_time": "2023-03-31T21:01:54.939Z"
   },
   {
    "duration": 25,
    "start_time": "2023-03-31T21:01:54.978Z"
   },
   {
    "duration": 6,
    "start_time": "2023-03-31T21:01:55.005Z"
   },
   {
    "duration": 9,
    "start_time": "2023-03-31T21:01:55.013Z"
   },
   {
    "duration": 9,
    "start_time": "2023-03-31T21:01:55.024Z"
   },
   {
    "duration": 30,
    "start_time": "2023-03-31T21:01:55.035Z"
   },
   {
    "duration": 22,
    "start_time": "2023-03-31T21:01:55.074Z"
   },
   {
    "duration": 13,
    "start_time": "2023-03-31T21:01:55.099Z"
   },
   {
    "duration": 24,
    "start_time": "2023-03-31T21:01:55.115Z"
   },
   {
    "duration": 7,
    "start_time": "2023-03-31T21:01:55.141Z"
   },
   {
    "duration": 19,
    "start_time": "2023-03-31T21:01:55.150Z"
   },
   {
    "duration": 11,
    "start_time": "2023-03-31T21:01:55.175Z"
   },
   {
    "duration": 5,
    "start_time": "2023-03-31T21:01:55.188Z"
   },
   {
    "duration": 5,
    "start_time": "2023-03-31T21:01:55.195Z"
   },
   {
    "duration": 5,
    "start_time": "2023-03-31T21:01:55.201Z"
   },
   {
    "duration": 28,
    "start_time": "2023-03-31T21:01:55.208Z"
   },
   {
    "duration": 19,
    "start_time": "2023-03-31T21:01:55.262Z"
   },
   {
    "duration": 1419,
    "start_time": "2023-03-31T21:01:55.283Z"
   },
   {
    "duration": 157370,
    "start_time": "2023-03-31T21:01:56.704Z"
   },
   {
    "duration": 1111,
    "start_time": "2023-03-31T21:04:34.079Z"
   },
   {
    "duration": 104,
    "start_time": "2023-03-31T21:04:35.265Z"
   },
   {
    "duration": 1802,
    "start_time": "2023-03-31T21:04:35.376Z"
   },
   {
    "duration": 56651,
    "start_time": "2023-03-31T21:04:37.182Z"
   },
   {
    "duration": 754,
    "start_time": "2023-03-31T21:05:33.835Z"
   },
   {
    "duration": 180,
    "start_time": "2023-03-31T21:05:34.592Z"
   },
   {
    "duration": 885,
    "start_time": "2023-03-31T21:05:34.778Z"
   },
   {
    "duration": 23689,
    "start_time": "2023-03-31T21:05:35.667Z"
   },
   {
    "duration": 1997,
    "start_time": "2023-03-31T21:05:59.365Z"
   },
   {
    "duration": 19,
    "start_time": "2023-03-31T21:06:01.366Z"
   },
   {
    "duration": 236,
    "start_time": "2023-03-31T21:06:01.388Z"
   },
   {
    "duration": 6311,
    "start_time": "2023-04-01T21:10:27.315Z"
   },
   {
    "duration": 3332,
    "start_time": "2023-04-01T21:10:33.628Z"
   },
   {
    "duration": 1213,
    "start_time": "2023-04-01T21:10:36.962Z"
   },
   {
    "duration": 168,
    "start_time": "2023-04-01T21:10:38.177Z"
   },
   {
    "duration": 15,
    "start_time": "2023-04-01T21:10:38.346Z"
   },
   {
    "duration": 3,
    "start_time": "2023-04-01T21:10:38.362Z"
   },
   {
    "duration": 47,
    "start_time": "2023-04-01T21:10:38.367Z"
   },
   {
    "duration": 10,
    "start_time": "2023-04-01T21:10:38.416Z"
   },
   {
    "duration": 29,
    "start_time": "2023-04-01T21:10:38.427Z"
   },
   {
    "duration": 4,
    "start_time": "2023-04-01T21:10:38.458Z"
   },
   {
    "duration": 11,
    "start_time": "2023-04-01T21:10:38.463Z"
   },
   {
    "duration": 10,
    "start_time": "2023-04-01T21:10:38.475Z"
   },
   {
    "duration": 4,
    "start_time": "2023-04-01T21:10:38.486Z"
   },
   {
    "duration": 6,
    "start_time": "2023-04-01T21:10:38.492Z"
   },
   {
    "duration": 11,
    "start_time": "2023-04-01T21:10:38.499Z"
   },
   {
    "duration": 21,
    "start_time": "2023-04-01T21:10:38.511Z"
   },
   {
    "duration": 18,
    "start_time": "2023-04-01T21:10:38.534Z"
   },
   {
    "duration": 7,
    "start_time": "2023-04-01T21:10:38.553Z"
   },
   {
    "duration": 11,
    "start_time": "2023-04-01T21:10:38.561Z"
   },
   {
    "duration": 5,
    "start_time": "2023-04-01T21:10:38.573Z"
   },
   {
    "duration": 5,
    "start_time": "2023-04-01T21:10:38.579Z"
   },
   {
    "duration": 5,
    "start_time": "2023-04-01T21:10:38.586Z"
   },
   {
    "duration": 28,
    "start_time": "2023-04-01T21:10:38.592Z"
   },
   {
    "duration": 13,
    "start_time": "2023-04-01T21:10:38.621Z"
   },
   {
    "duration": 1348,
    "start_time": "2023-04-01T21:10:38.635Z"
   },
   {
    "duration": 136624,
    "start_time": "2023-04-01T21:10:39.984Z"
   },
   {
    "duration": 143,
    "start_time": "2023-04-01T21:12:56.609Z"
   },
   {
    "duration": 102,
    "start_time": "2023-04-01T21:12:56.756Z"
   },
   {
    "duration": 1754,
    "start_time": "2023-04-01T21:12:56.860Z"
   },
   {
    "duration": 48873,
    "start_time": "2023-04-01T21:12:58.616Z"
   },
   {
    "duration": 159,
    "start_time": "2023-04-01T21:13:47.491Z"
   },
   {
    "duration": 104,
    "start_time": "2023-04-01T21:13:47.651Z"
   },
   {
    "duration": 650,
    "start_time": "2023-04-01T21:13:47.757Z"
   },
   {
    "duration": 19805,
    "start_time": "2023-04-01T21:13:48.408Z"
   },
   {
    "duration": 42,
    "start_time": "2023-04-01T21:14:08.215Z"
   },
   {
    "duration": 100,
    "start_time": "2023-04-01T21:14:08.259Z"
   },
   {
    "duration": 249,
    "start_time": "2023-04-01T21:14:08.361Z"
   },
   {
    "duration": 159,
    "start_time": "2023-04-01T21:16:51.817Z"
   },
   {
    "duration": 154,
    "start_time": "2023-04-01T21:17:11.219Z"
   },
   {
    "duration": 131,
    "start_time": "2023-04-01T21:17:17.329Z"
   },
   {
    "duration": 2175,
    "start_time": "2023-04-01T21:17:29.230Z"
   },
   {
    "duration": 2140,
    "start_time": "2023-04-01T21:17:31.408Z"
   },
   {
    "duration": 1125,
    "start_time": "2023-04-01T21:17:33.551Z"
   },
   {
    "duration": 39,
    "start_time": "2023-04-01T21:17:34.678Z"
   },
   {
    "duration": 14,
    "start_time": "2023-04-01T21:17:34.720Z"
   },
   {
    "duration": 4,
    "start_time": "2023-04-01T21:17:34.736Z"
   },
   {
    "duration": 41,
    "start_time": "2023-04-01T21:17:34.741Z"
   },
   {
    "duration": 10,
    "start_time": "2023-04-01T21:17:34.783Z"
   },
   {
    "duration": 15,
    "start_time": "2023-04-01T21:17:34.794Z"
   },
   {
    "duration": 3,
    "start_time": "2023-04-01T21:17:34.810Z"
   },
   {
    "duration": 7,
    "start_time": "2023-04-01T21:17:34.814Z"
   },
   {
    "duration": 30,
    "start_time": "2023-04-01T21:17:34.822Z"
   },
   {
    "duration": 4,
    "start_time": "2023-04-01T21:17:34.854Z"
   },
   {
    "duration": 6,
    "start_time": "2023-04-01T21:17:34.861Z"
   },
   {
    "duration": 13,
    "start_time": "2023-04-01T21:17:34.868Z"
   },
   {
    "duration": 16,
    "start_time": "2023-04-01T21:17:34.883Z"
   },
   {
    "duration": 5,
    "start_time": "2023-04-01T21:17:34.900Z"
   },
   {
    "duration": 5,
    "start_time": "2023-04-01T21:17:34.907Z"
   },
   {
    "duration": 4,
    "start_time": "2023-04-01T21:17:34.914Z"
   },
   {
    "duration": 6,
    "start_time": "2023-04-01T21:17:34.949Z"
   },
   {
    "duration": 3,
    "start_time": "2023-04-01T21:17:34.957Z"
   },
   {
    "duration": 3,
    "start_time": "2023-04-01T21:17:34.962Z"
   },
   {
    "duration": 24,
    "start_time": "2023-04-01T21:17:34.966Z"
   },
   {
    "duration": 18,
    "start_time": "2023-04-01T21:17:34.992Z"
   },
   {
    "duration": 1355,
    "start_time": "2023-04-01T21:17:35.011Z"
   },
   {
    "duration": 136381,
    "start_time": "2023-04-01T21:17:36.368Z"
   },
   {
    "duration": 102,
    "start_time": "2023-04-01T21:19:52.751Z"
   },
   {
    "duration": 111,
    "start_time": "2023-04-01T21:19:52.855Z"
   },
   {
    "duration": 1626,
    "start_time": "2023-04-01T21:19:52.968Z"
   },
   {
    "duration": 45775,
    "start_time": "2023-04-01T21:19:54.596Z"
   },
   {
    "duration": 85,
    "start_time": "2023-04-01T21:20:40.373Z"
   },
   {
    "duration": 102,
    "start_time": "2023-04-01T21:20:40.460Z"
   },
   {
    "duration": 651,
    "start_time": "2023-04-01T21:20:40.649Z"
   },
   {
    "duration": 19661,
    "start_time": "2023-04-01T21:20:41.301Z"
   },
   {
    "duration": 486,
    "start_time": "2023-04-01T21:21:00.963Z"
   },
   {
    "duration": 99,
    "start_time": "2023-04-01T21:21:01.451Z"
   },
   {
    "duration": 143,
    "start_time": "2023-04-01T21:21:01.551Z"
   },
   {
    "duration": 2006,
    "start_time": "2023-04-01T21:49:03.710Z"
   },
   {
    "duration": 1784,
    "start_time": "2023-04-01T21:49:05.719Z"
   },
   {
    "duration": 1020,
    "start_time": "2023-04-01T21:49:07.505Z"
   },
   {
    "duration": 40,
    "start_time": "2023-04-01T21:49:08.526Z"
   },
   {
    "duration": 13,
    "start_time": "2023-04-01T21:49:08.568Z"
   },
   {
    "duration": 5,
    "start_time": "2023-04-01T21:49:08.582Z"
   },
   {
    "duration": 42,
    "start_time": "2023-04-01T21:49:08.588Z"
   },
   {
    "duration": 23,
    "start_time": "2023-04-01T21:49:08.631Z"
   },
   {
    "duration": 15,
    "start_time": "2023-04-01T21:49:08.655Z"
   },
   {
    "duration": 4,
    "start_time": "2023-04-01T21:49:08.671Z"
   },
   {
    "duration": 5,
    "start_time": "2023-04-01T21:49:08.676Z"
   },
   {
    "duration": 7,
    "start_time": "2023-04-01T21:49:08.683Z"
   },
   {
    "duration": 3,
    "start_time": "2023-04-01T21:49:08.691Z"
   },
   {
    "duration": 4,
    "start_time": "2023-04-01T21:49:08.696Z"
   },
   {
    "duration": 10,
    "start_time": "2023-04-01T21:49:08.701Z"
   },
   {
    "duration": 55,
    "start_time": "2023-04-01T21:49:08.712Z"
   },
   {
    "duration": 5,
    "start_time": "2023-04-01T21:49:08.769Z"
   },
   {
    "duration": 8,
    "start_time": "2023-04-01T21:49:08.775Z"
   },
   {
    "duration": 6,
    "start_time": "2023-04-01T21:49:08.784Z"
   },
   {
    "duration": 8,
    "start_time": "2023-04-01T21:49:08.791Z"
   },
   {
    "duration": 6,
    "start_time": "2023-04-01T21:49:08.800Z"
   },
   {
    "duration": 4,
    "start_time": "2023-04-01T21:49:08.807Z"
   },
   {
    "duration": 44,
    "start_time": "2023-04-01T21:49:08.812Z"
   },
   {
    "duration": 13,
    "start_time": "2023-04-01T21:49:08.858Z"
   },
   {
    "duration": 1333,
    "start_time": "2023-04-01T21:49:08.872Z"
   },
   {
    "duration": 136862,
    "start_time": "2023-04-01T21:49:10.207Z"
   },
   {
    "duration": 293,
    "start_time": "2023-04-01T21:51:27.070Z"
   },
   {
    "duration": 99,
    "start_time": "2023-04-01T21:51:27.450Z"
   },
   {
    "duration": 1932,
    "start_time": "2023-04-01T21:51:27.551Z"
   },
   {
    "duration": 46712,
    "start_time": "2023-04-01T21:51:29.485Z"
   },
   {
    "duration": 165,
    "start_time": "2023-04-01T21:52:16.198Z"
   },
   {
    "duration": 108,
    "start_time": "2023-04-01T21:52:16.449Z"
   },
   {
    "duration": 677,
    "start_time": "2023-04-01T21:52:16.559Z"
   },
   {
    "duration": 19869,
    "start_time": "2023-04-01T21:52:17.238Z"
   },
   {
    "duration": 49,
    "start_time": "2023-04-01T21:52:37.109Z"
   },
   {
    "duration": 90,
    "start_time": "2023-04-01T21:52:37.165Z"
   },
   {
    "duration": 449,
    "start_time": "2023-04-01T21:52:37.256Z"
   }
  ],
  "kernelspec": {
   "display_name": "Python 3 (ipykernel)",
   "language": "python",
   "name": "python3"
  },
  "language_info": {
   "codemirror_mode": {
    "name": "ipython",
    "version": 3
   },
   "file_extension": ".py",
   "mimetype": "text/x-python",
   "name": "python",
   "nbconvert_exporter": "python",
   "pygments_lexer": "ipython3",
   "version": "3.9.13"
  },
  "toc": {
   "base_numbering": 1,
   "nav_menu": {},
   "number_sections": true,
   "sideBar": true,
   "skip_h1_title": true,
   "title_cell": "Table of Contents",
   "title_sidebar": "Contents",
   "toc_cell": true,
   "toc_position": {},
   "toc_section_display": true,
   "toc_window_display": false
  }
 },
 "nbformat": 4,
 "nbformat_minor": 5
}
